{
  "nbformat": 4,
  "nbformat_minor": 0,
  "metadata": {
    "colab": {
      "provenance": []
    },
    "kernelspec": {
      "name": "python3",
      "display_name": "Python 3"
    },
    "language_info": {
      "name": "python"
    }
  },
  "cells": [
    {
      "cell_type": "code",
      "execution_count": null,
      "metadata": {
        "id": "oGTq6qZ5gy1E"
      },
      "outputs": [],
      "source": [
        " #Imports\n",
        "import numpy as np\n",
        "import pandas as pd\n",
        "import matplotlib.pyplot as plt\n",
        "%matplotlib inline\n",
        "import seaborn as sns\n",
        "import pylab\n",
        "import tensorflow as tf\n",
        "from sklearn import svm\n",
        "from sklearn.metrics import accuracy_score\n",
        "from sklearn.linear_model import LogisticRegression\n",
        "from sklearn.ensemble import ExtraTreesClassifier\n",
        "from sklearn.datasets import make_classification\n",
        "from sklearn.tree import DecisionTreeClassifier\n",
        "from sklearn.ensemble import RandomForestClassifier , RandomForestRegressor\n",
        "from sklearn.ensemble import AdaBoostClassifier ,GradientBoostingClassifier, GradientBoostingRegressor , AdaBoostRegressor\n",
        "import xgboost\n",
        "from xgboost import XGBRegressor\n",
        "from sklearn.model_selection import train_test_split, GridSearchCV, RandomizedSearchCV\n",
        "from sklearn.metrics import accuracy_score, recall_score, precision_score, f1_score, confusion_matrix, roc_curve, roc_auc_score\n",
        "from sklearn.metrics import mean_absolute_error ,mean_squared_error ,r2_score\n",
        "import sklearn"
      ]
    },
    {
      "cell_type": "code",
      "source": [
        "!pip install pycaret[models]\n",
        "from pycaret.regression import *\n"
      ],
      "metadata": {
        "id": "b6fBASz1Up5e"
      },
      "execution_count": null,
      "outputs": []
    },
    {
      "cell_type": "code",
      "source": [
        "#load GPU for better testing\n",
        "gpus = tf.config.list_physical_devices('GPU')\n",
        "if gpus:\n",
        "    try:\n",
        "    # Currently, memory growth needs to be the same across GPUs\n",
        "        for gpu in gpus:\n",
        "            tf.config.experimental.set_memory_growth(gpu, True)\n",
        "        logical_gpus = tf.config.list_logical_devices('GPU')\n",
        "        print(len(gpus), \"Physical GPUs,\", len(logical_gpus), \"Logical GPUs\")\n",
        "    except RuntimeError as e:\n",
        "    # Memory growth must be set before GPUs have been initialized\n",
        "        print(e)"
      ],
      "metadata": {
        "id": "_3RTFT_-hRDA"
      },
      "execution_count": null,
      "outputs": []
    },
    {
      "cell_type": "code",
      "source": [
        "#load Data\n",
        "data=pd.read_csv('/content/sample_data/AlzheimerData.txt', delimiter=',')\n",
        "selectiveData=data.copy()"
      ],
      "metadata": {
        "id": "6TRbp-3dg_mz"
      },
      "execution_count": null,
      "outputs": []
    },
    {
      "cell_type": "code",
      "source": [
        "import re\n",
        "data = data.rename(columns = lambda x:re.sub('[^A-Za-z0-9_]+', '', x))"
      ],
      "metadata": {
        "id": "UqqRbPSNVjXO"
      },
      "execution_count": null,
      "outputs": []
    },
    {
      "cell_type": "code",
      "source": [
        "clf1 = setup(data = data, target = 'motor_UPDRS', feature_selection = True)\n",
        "clf1 = setup(data = data, target = 'total_UPDRS', feature_selection = True)"
      ],
      "metadata": {
        "colab": {
          "base_uri": "https://localhost:8080/",
          "height": 1000
        },
        "id": "6cB0f4twVnON",
        "outputId": "b2d553c2-b9d9-49eb-e521-24e559a6afcb"
      },
      "execution_count": null,
      "outputs": [
        {
          "output_type": "display_data",
          "data": {
            "text/plain": [
              "<pandas.io.formats.style.Styler at 0x7f082d223eb0>"
            ],
            "text/html": [
              "<style type=\"text/css\">\n",
              "#T_d9863_row8_col1, #T_d9863_row12_col1 {\n",
              "  background-color: lightgreen;\n",
              "}\n",
              "</style>\n",
              "<table id=\"T_d9863\" class=\"dataframe\">\n",
              "  <thead>\n",
              "    <tr>\n",
              "      <th class=\"blank level0\" >&nbsp;</th>\n",
              "      <th id=\"T_d9863_level0_col0\" class=\"col_heading level0 col0\" >Description</th>\n",
              "      <th id=\"T_d9863_level0_col1\" class=\"col_heading level0 col1\" >Value</th>\n",
              "    </tr>\n",
              "  </thead>\n",
              "  <tbody>\n",
              "    <tr>\n",
              "      <th id=\"T_d9863_level0_row0\" class=\"row_heading level0 row0\" >0</th>\n",
              "      <td id=\"T_d9863_row0_col0\" class=\"data row0 col0\" >Session id</td>\n",
              "      <td id=\"T_d9863_row0_col1\" class=\"data row0 col1\" >5166</td>\n",
              "    </tr>\n",
              "    <tr>\n",
              "      <th id=\"T_d9863_level0_row1\" class=\"row_heading level0 row1\" >1</th>\n",
              "      <td id=\"T_d9863_row1_col0\" class=\"data row1 col0\" >Target</td>\n",
              "      <td id=\"T_d9863_row1_col1\" class=\"data row1 col1\" >motor_UPDRS</td>\n",
              "    </tr>\n",
              "    <tr>\n",
              "      <th id=\"T_d9863_level0_row2\" class=\"row_heading level0 row2\" >2</th>\n",
              "      <td id=\"T_d9863_row2_col0\" class=\"data row2 col0\" >Target type</td>\n",
              "      <td id=\"T_d9863_row2_col1\" class=\"data row2 col1\" >Regression</td>\n",
              "    </tr>\n",
              "    <tr>\n",
              "      <th id=\"T_d9863_level0_row3\" class=\"row_heading level0 row3\" >3</th>\n",
              "      <td id=\"T_d9863_row3_col0\" class=\"data row3 col0\" >Original data shape</td>\n",
              "      <td id=\"T_d9863_row3_col1\" class=\"data row3 col1\" >(5875, 22)</td>\n",
              "    </tr>\n",
              "    <tr>\n",
              "      <th id=\"T_d9863_level0_row4\" class=\"row_heading level0 row4\" >4</th>\n",
              "      <td id=\"T_d9863_row4_col0\" class=\"data row4 col0\" >Transformed data shape</td>\n",
              "      <td id=\"T_d9863_row4_col1\" class=\"data row4 col1\" >(5875, 5)</td>\n",
              "    </tr>\n",
              "    <tr>\n",
              "      <th id=\"T_d9863_level0_row5\" class=\"row_heading level0 row5\" >5</th>\n",
              "      <td id=\"T_d9863_row5_col0\" class=\"data row5 col0\" >Transformed train set shape</td>\n",
              "      <td id=\"T_d9863_row5_col1\" class=\"data row5 col1\" >(4112, 5)</td>\n",
              "    </tr>\n",
              "    <tr>\n",
              "      <th id=\"T_d9863_level0_row6\" class=\"row_heading level0 row6\" >6</th>\n",
              "      <td id=\"T_d9863_row6_col0\" class=\"data row6 col0\" >Transformed test set shape</td>\n",
              "      <td id=\"T_d9863_row6_col1\" class=\"data row6 col1\" >(1763, 5)</td>\n",
              "    </tr>\n",
              "    <tr>\n",
              "      <th id=\"T_d9863_level0_row7\" class=\"row_heading level0 row7\" >7</th>\n",
              "      <td id=\"T_d9863_row7_col0\" class=\"data row7 col0\" >Numeric features</td>\n",
              "      <td id=\"T_d9863_row7_col1\" class=\"data row7 col1\" >21</td>\n",
              "    </tr>\n",
              "    <tr>\n",
              "      <th id=\"T_d9863_level0_row8\" class=\"row_heading level0 row8\" >8</th>\n",
              "      <td id=\"T_d9863_row8_col0\" class=\"data row8 col0\" >Preprocess</td>\n",
              "      <td id=\"T_d9863_row8_col1\" class=\"data row8 col1\" >True</td>\n",
              "    </tr>\n",
              "    <tr>\n",
              "      <th id=\"T_d9863_level0_row9\" class=\"row_heading level0 row9\" >9</th>\n",
              "      <td id=\"T_d9863_row9_col0\" class=\"data row9 col0\" >Imputation type</td>\n",
              "      <td id=\"T_d9863_row9_col1\" class=\"data row9 col1\" >simple</td>\n",
              "    </tr>\n",
              "    <tr>\n",
              "      <th id=\"T_d9863_level0_row10\" class=\"row_heading level0 row10\" >10</th>\n",
              "      <td id=\"T_d9863_row10_col0\" class=\"data row10 col0\" >Numeric imputation</td>\n",
              "      <td id=\"T_d9863_row10_col1\" class=\"data row10 col1\" >mean</td>\n",
              "    </tr>\n",
              "    <tr>\n",
              "      <th id=\"T_d9863_level0_row11\" class=\"row_heading level0 row11\" >11</th>\n",
              "      <td id=\"T_d9863_row11_col0\" class=\"data row11 col0\" >Categorical imputation</td>\n",
              "      <td id=\"T_d9863_row11_col1\" class=\"data row11 col1\" >mode</td>\n",
              "    </tr>\n",
              "    <tr>\n",
              "      <th id=\"T_d9863_level0_row12\" class=\"row_heading level0 row12\" >12</th>\n",
              "      <td id=\"T_d9863_row12_col0\" class=\"data row12 col0\" >Feature selection</td>\n",
              "      <td id=\"T_d9863_row12_col1\" class=\"data row12 col1\" >True</td>\n",
              "    </tr>\n",
              "    <tr>\n",
              "      <th id=\"T_d9863_level0_row13\" class=\"row_heading level0 row13\" >13</th>\n",
              "      <td id=\"T_d9863_row13_col0\" class=\"data row13 col0\" >Feature selection method</td>\n",
              "      <td id=\"T_d9863_row13_col1\" class=\"data row13 col1\" >classic</td>\n",
              "    </tr>\n",
              "    <tr>\n",
              "      <th id=\"T_d9863_level0_row14\" class=\"row_heading level0 row14\" >14</th>\n",
              "      <td id=\"T_d9863_row14_col0\" class=\"data row14 col0\" >Feature selection estimator</td>\n",
              "      <td id=\"T_d9863_row14_col1\" class=\"data row14 col1\" >lightgbm</td>\n",
              "    </tr>\n",
              "    <tr>\n",
              "      <th id=\"T_d9863_level0_row15\" class=\"row_heading level0 row15\" >15</th>\n",
              "      <td id=\"T_d9863_row15_col0\" class=\"data row15 col0\" >Number of features selected</td>\n",
              "      <td id=\"T_d9863_row15_col1\" class=\"data row15 col1\" >0.200000</td>\n",
              "    </tr>\n",
              "    <tr>\n",
              "      <th id=\"T_d9863_level0_row16\" class=\"row_heading level0 row16\" >16</th>\n",
              "      <td id=\"T_d9863_row16_col0\" class=\"data row16 col0\" >Fold Generator</td>\n",
              "      <td id=\"T_d9863_row16_col1\" class=\"data row16 col1\" >KFold</td>\n",
              "    </tr>\n",
              "    <tr>\n",
              "      <th id=\"T_d9863_level0_row17\" class=\"row_heading level0 row17\" >17</th>\n",
              "      <td id=\"T_d9863_row17_col0\" class=\"data row17 col0\" >Fold Number</td>\n",
              "      <td id=\"T_d9863_row17_col1\" class=\"data row17 col1\" >10</td>\n",
              "    </tr>\n",
              "    <tr>\n",
              "      <th id=\"T_d9863_level0_row18\" class=\"row_heading level0 row18\" >18</th>\n",
              "      <td id=\"T_d9863_row18_col0\" class=\"data row18 col0\" >CPU Jobs</td>\n",
              "      <td id=\"T_d9863_row18_col1\" class=\"data row18 col1\" >-1</td>\n",
              "    </tr>\n",
              "    <tr>\n",
              "      <th id=\"T_d9863_level0_row19\" class=\"row_heading level0 row19\" >19</th>\n",
              "      <td id=\"T_d9863_row19_col0\" class=\"data row19 col0\" >Use GPU</td>\n",
              "      <td id=\"T_d9863_row19_col1\" class=\"data row19 col1\" >False</td>\n",
              "    </tr>\n",
              "    <tr>\n",
              "      <th id=\"T_d9863_level0_row20\" class=\"row_heading level0 row20\" >20</th>\n",
              "      <td id=\"T_d9863_row20_col0\" class=\"data row20 col0\" >Log Experiment</td>\n",
              "      <td id=\"T_d9863_row20_col1\" class=\"data row20 col1\" >False</td>\n",
              "    </tr>\n",
              "    <tr>\n",
              "      <th id=\"T_d9863_level0_row21\" class=\"row_heading level0 row21\" >21</th>\n",
              "      <td id=\"T_d9863_row21_col0\" class=\"data row21 col0\" >Experiment Name</td>\n",
              "      <td id=\"T_d9863_row21_col1\" class=\"data row21 col1\" >reg-default-name</td>\n",
              "    </tr>\n",
              "    <tr>\n",
              "      <th id=\"T_d9863_level0_row22\" class=\"row_heading level0 row22\" >22</th>\n",
              "      <td id=\"T_d9863_row22_col0\" class=\"data row22 col0\" >USI</td>\n",
              "      <td id=\"T_d9863_row22_col1\" class=\"data row22 col1\" >6e46</td>\n",
              "    </tr>\n",
              "  </tbody>\n",
              "</table>\n"
            ]
          },
          "metadata": {}
        },
        {
          "output_type": "display_data",
          "data": {
            "text/plain": [
              "<pandas.io.formats.style.Styler at 0x7f082cff09a0>"
            ],
            "text/html": [
              "<style type=\"text/css\">\n",
              "#T_d0765_row8_col1, #T_d0765_row12_col1 {\n",
              "  background-color: lightgreen;\n",
              "}\n",
              "</style>\n",
              "<table id=\"T_d0765\" class=\"dataframe\">\n",
              "  <thead>\n",
              "    <tr>\n",
              "      <th class=\"blank level0\" >&nbsp;</th>\n",
              "      <th id=\"T_d0765_level0_col0\" class=\"col_heading level0 col0\" >Description</th>\n",
              "      <th id=\"T_d0765_level0_col1\" class=\"col_heading level0 col1\" >Value</th>\n",
              "    </tr>\n",
              "  </thead>\n",
              "  <tbody>\n",
              "    <tr>\n",
              "      <th id=\"T_d0765_level0_row0\" class=\"row_heading level0 row0\" >0</th>\n",
              "      <td id=\"T_d0765_row0_col0\" class=\"data row0 col0\" >Session id</td>\n",
              "      <td id=\"T_d0765_row0_col1\" class=\"data row0 col1\" >7585</td>\n",
              "    </tr>\n",
              "    <tr>\n",
              "      <th id=\"T_d0765_level0_row1\" class=\"row_heading level0 row1\" >1</th>\n",
              "      <td id=\"T_d0765_row1_col0\" class=\"data row1 col0\" >Target</td>\n",
              "      <td id=\"T_d0765_row1_col1\" class=\"data row1 col1\" >total_UPDRS</td>\n",
              "    </tr>\n",
              "    <tr>\n",
              "      <th id=\"T_d0765_level0_row2\" class=\"row_heading level0 row2\" >2</th>\n",
              "      <td id=\"T_d0765_row2_col0\" class=\"data row2 col0\" >Target type</td>\n",
              "      <td id=\"T_d0765_row2_col1\" class=\"data row2 col1\" >Regression</td>\n",
              "    </tr>\n",
              "    <tr>\n",
              "      <th id=\"T_d0765_level0_row3\" class=\"row_heading level0 row3\" >3</th>\n",
              "      <td id=\"T_d0765_row3_col0\" class=\"data row3 col0\" >Original data shape</td>\n",
              "      <td id=\"T_d0765_row3_col1\" class=\"data row3 col1\" >(5875, 22)</td>\n",
              "    </tr>\n",
              "    <tr>\n",
              "      <th id=\"T_d0765_level0_row4\" class=\"row_heading level0 row4\" >4</th>\n",
              "      <td id=\"T_d0765_row4_col0\" class=\"data row4 col0\" >Transformed data shape</td>\n",
              "      <td id=\"T_d0765_row4_col1\" class=\"data row4 col1\" >(5875, 5)</td>\n",
              "    </tr>\n",
              "    <tr>\n",
              "      <th id=\"T_d0765_level0_row5\" class=\"row_heading level0 row5\" >5</th>\n",
              "      <td id=\"T_d0765_row5_col0\" class=\"data row5 col0\" >Transformed train set shape</td>\n",
              "      <td id=\"T_d0765_row5_col1\" class=\"data row5 col1\" >(4112, 5)</td>\n",
              "    </tr>\n",
              "    <tr>\n",
              "      <th id=\"T_d0765_level0_row6\" class=\"row_heading level0 row6\" >6</th>\n",
              "      <td id=\"T_d0765_row6_col0\" class=\"data row6 col0\" >Transformed test set shape</td>\n",
              "      <td id=\"T_d0765_row6_col1\" class=\"data row6 col1\" >(1763, 5)</td>\n",
              "    </tr>\n",
              "    <tr>\n",
              "      <th id=\"T_d0765_level0_row7\" class=\"row_heading level0 row7\" >7</th>\n",
              "      <td id=\"T_d0765_row7_col0\" class=\"data row7 col0\" >Numeric features</td>\n",
              "      <td id=\"T_d0765_row7_col1\" class=\"data row7 col1\" >21</td>\n",
              "    </tr>\n",
              "    <tr>\n",
              "      <th id=\"T_d0765_level0_row8\" class=\"row_heading level0 row8\" >8</th>\n",
              "      <td id=\"T_d0765_row8_col0\" class=\"data row8 col0\" >Preprocess</td>\n",
              "      <td id=\"T_d0765_row8_col1\" class=\"data row8 col1\" >True</td>\n",
              "    </tr>\n",
              "    <tr>\n",
              "      <th id=\"T_d0765_level0_row9\" class=\"row_heading level0 row9\" >9</th>\n",
              "      <td id=\"T_d0765_row9_col0\" class=\"data row9 col0\" >Imputation type</td>\n",
              "      <td id=\"T_d0765_row9_col1\" class=\"data row9 col1\" >simple</td>\n",
              "    </tr>\n",
              "    <tr>\n",
              "      <th id=\"T_d0765_level0_row10\" class=\"row_heading level0 row10\" >10</th>\n",
              "      <td id=\"T_d0765_row10_col0\" class=\"data row10 col0\" >Numeric imputation</td>\n",
              "      <td id=\"T_d0765_row10_col1\" class=\"data row10 col1\" >mean</td>\n",
              "    </tr>\n",
              "    <tr>\n",
              "      <th id=\"T_d0765_level0_row11\" class=\"row_heading level0 row11\" >11</th>\n",
              "      <td id=\"T_d0765_row11_col0\" class=\"data row11 col0\" >Categorical imputation</td>\n",
              "      <td id=\"T_d0765_row11_col1\" class=\"data row11 col1\" >mode</td>\n",
              "    </tr>\n",
              "    <tr>\n",
              "      <th id=\"T_d0765_level0_row12\" class=\"row_heading level0 row12\" >12</th>\n",
              "      <td id=\"T_d0765_row12_col0\" class=\"data row12 col0\" >Feature selection</td>\n",
              "      <td id=\"T_d0765_row12_col1\" class=\"data row12 col1\" >True</td>\n",
              "    </tr>\n",
              "    <tr>\n",
              "      <th id=\"T_d0765_level0_row13\" class=\"row_heading level0 row13\" >13</th>\n",
              "      <td id=\"T_d0765_row13_col0\" class=\"data row13 col0\" >Feature selection method</td>\n",
              "      <td id=\"T_d0765_row13_col1\" class=\"data row13 col1\" >classic</td>\n",
              "    </tr>\n",
              "    <tr>\n",
              "      <th id=\"T_d0765_level0_row14\" class=\"row_heading level0 row14\" >14</th>\n",
              "      <td id=\"T_d0765_row14_col0\" class=\"data row14 col0\" >Feature selection estimator</td>\n",
              "      <td id=\"T_d0765_row14_col1\" class=\"data row14 col1\" >lightgbm</td>\n",
              "    </tr>\n",
              "    <tr>\n",
              "      <th id=\"T_d0765_level0_row15\" class=\"row_heading level0 row15\" >15</th>\n",
              "      <td id=\"T_d0765_row15_col0\" class=\"data row15 col0\" >Number of features selected</td>\n",
              "      <td id=\"T_d0765_row15_col1\" class=\"data row15 col1\" >0.200000</td>\n",
              "    </tr>\n",
              "    <tr>\n",
              "      <th id=\"T_d0765_level0_row16\" class=\"row_heading level0 row16\" >16</th>\n",
              "      <td id=\"T_d0765_row16_col0\" class=\"data row16 col0\" >Fold Generator</td>\n",
              "      <td id=\"T_d0765_row16_col1\" class=\"data row16 col1\" >KFold</td>\n",
              "    </tr>\n",
              "    <tr>\n",
              "      <th id=\"T_d0765_level0_row17\" class=\"row_heading level0 row17\" >17</th>\n",
              "      <td id=\"T_d0765_row17_col0\" class=\"data row17 col0\" >Fold Number</td>\n",
              "      <td id=\"T_d0765_row17_col1\" class=\"data row17 col1\" >10</td>\n",
              "    </tr>\n",
              "    <tr>\n",
              "      <th id=\"T_d0765_level0_row18\" class=\"row_heading level0 row18\" >18</th>\n",
              "      <td id=\"T_d0765_row18_col0\" class=\"data row18 col0\" >CPU Jobs</td>\n",
              "      <td id=\"T_d0765_row18_col1\" class=\"data row18 col1\" >-1</td>\n",
              "    </tr>\n",
              "    <tr>\n",
              "      <th id=\"T_d0765_level0_row19\" class=\"row_heading level0 row19\" >19</th>\n",
              "      <td id=\"T_d0765_row19_col0\" class=\"data row19 col0\" >Use GPU</td>\n",
              "      <td id=\"T_d0765_row19_col1\" class=\"data row19 col1\" >False</td>\n",
              "    </tr>\n",
              "    <tr>\n",
              "      <th id=\"T_d0765_level0_row20\" class=\"row_heading level0 row20\" >20</th>\n",
              "      <td id=\"T_d0765_row20_col0\" class=\"data row20 col0\" >Log Experiment</td>\n",
              "      <td id=\"T_d0765_row20_col1\" class=\"data row20 col1\" >False</td>\n",
              "    </tr>\n",
              "    <tr>\n",
              "      <th id=\"T_d0765_level0_row21\" class=\"row_heading level0 row21\" >21</th>\n",
              "      <td id=\"T_d0765_row21_col0\" class=\"data row21 col0\" >Experiment Name</td>\n",
              "      <td id=\"T_d0765_row21_col1\" class=\"data row21 col1\" >reg-default-name</td>\n",
              "    </tr>\n",
              "    <tr>\n",
              "      <th id=\"T_d0765_level0_row22\" class=\"row_heading level0 row22\" >22</th>\n",
              "      <td id=\"T_d0765_row22_col0\" class=\"data row22 col0\" >USI</td>\n",
              "      <td id=\"T_d0765_row22_col1\" class=\"data row22 col1\" >4e55</td>\n",
              "    </tr>\n",
              "  </tbody>\n",
              "</table>\n"
            ]
          },
          "metadata": {}
        }
      ]
    },
    {
      "cell_type": "code",
      "source": [
        "clf1"
      ],
      "metadata": {
        "colab": {
          "base_uri": "https://localhost:8080/"
        },
        "id": "4oKR4vkaWevC",
        "outputId": "e4de3c25-b2d4-44fd-c792-c1faca3c7c0a"
      },
      "execution_count": null,
      "outputs": [
        {
          "output_type": "execute_result",
          "data": {
            "text/plain": [
              "<pycaret.regression.oop.RegressionExperiment at 0x7f082f97dc30>"
            ]
          },
          "metadata": {},
          "execution_count": 51
        }
      ]
    },
    {
      "cell_type": "code",
      "source": [
        "null=pd.isnull(data).sum()\n",
        "null.head"
      ],
      "metadata": {
        "id": "qpF_BA3YhFyT",
        "colab": {
          "base_uri": "https://localhost:8080/"
        },
        "outputId": "f44bf8ee-4342-4eb9-e140-233c137e7d8f"
      },
      "execution_count": null,
      "outputs": [
        {
          "output_type": "execute_result",
          "data": {
            "text/plain": [
              "<bound method NDFrame.head of subject#         0\n",
              "age              0\n",
              "sex              0\n",
              "test_time        0\n",
              "motor_UPDRS      0\n",
              "total_UPDRS      0\n",
              "Jitter(%)        0\n",
              "Jitter(Abs)      0\n",
              "Jitter:RAP       0\n",
              "Jitter:PPQ5      0\n",
              "Jitter:DDP       0\n",
              "Shimmer          0\n",
              "Shimmer(dB)      0\n",
              "Shimmer:APQ3     0\n",
              "Shimmer:APQ5     0\n",
              "Shimmer:APQ11    0\n",
              "Shimmer:DDA      0\n",
              "NHR              0\n",
              "HNR              0\n",
              "RPDE             0\n",
              "DFA              0\n",
              "PPE              0\n",
              "dtype: int64>"
            ]
          },
          "metadata": {},
          "execution_count": 9
        }
      ]
    },
    {
      "cell_type": "code",
      "source": [
        "data"
      ],
      "metadata": {
        "id": "iYhsjmu82y-h"
      },
      "execution_count": null,
      "outputs": []
    },
    {
      "cell_type": "code",
      "source": [
        "columns_titles = list(data.columns)\n",
        "for a in range (21):\n",
        "  plt.hist(data.iloc[:,1+a])\n",
        "  plt.title(columns_titles[1+a])\n",
        "  plt.show()"
      ],
      "metadata": {
        "id": "OMHyKfJ_2TwE",
        "colab": {
          "base_uri": "https://localhost:8080/",
          "height": 1000
        },
        "outputId": "78b165b3-dd33-42b2-cdd2-ce175eee35b5"
      },
      "execution_count": null,
      "outputs": [
        {
          "output_type": "display_data",
          "data": {
            "text/plain": [
              "<Figure size 640x480 with 1 Axes>"
            ],
            "image/png": "[encoded data removed]"
          },
          "metadata": {}
        },
        {
          "output_type": "display_data",
          "data": {
            "text/plain": [
              "<Figure size 640x480 with 1 Axes>"
            ],
            "image/png": "[encoded data removed]"
          },
          "metadata": {}
        },
        {
          "output_type": "display_data",
          "data": {
            "text/plain": [
              "<Figure size 640x480 with 1 Axes>"
            ],
            "image/png": "[encoded data removed]"
          },
          "metadata": {}
        },
        {
          "output_type": "display_data",
          "data": {
            "text/plain": [
              "<Figure size 640x480 with 1 Axes>"
            ],
            "image/png": "[encoded data removed]"
          },
          "metadata": {}
        },
        {
          "output_type": "display_data",
          "data": {
            "text/plain": [
              "<Figure size 640x480 with 1 Axes>"
            ],
            "image/png": "[encoded data removed]"
          },
          "metadata": {}
        },
        {
          "output_type": "display_data",
          "data": {
            "text/plain": [
              "<Figure size 640x480 with 1 Axes>"
            ],
            "image/png": "[encoded data removed]"
          },
          "metadata": {}
        },
        {
          "output_type": "display_data",
          "data": {
            "text/plain": [
              "<Figure size 640x480 with 1 Axes>"
            ],
            "image/png": "[encoded data removed]"
          },
          "metadata": {}
        },
        {
          "output_type": "display_data",
          "data": {
            "text/plain": [
              "<Figure size 640x480 with 1 Axes>"
            ],
            "image/png": "[encoded data removed]"
          },
          "metadata": {}
        },
        {
          "output_type": "display_data",
          "data": {
            "text/plain": [
              "<Figure size 640x480 with 1 Axes>"
            ],
            "image/png": "[encoded data removed]"
          },
          "metadata": {}
        },
        {
          "output_type": "display_data",
          "data": {
            "text/plain": [
              "<Figure size 640x480 with 1 Axes>"
            ],
            "image/png": "[encoded data removed]"
          },
          "metadata": {}
        },
        {
          "output_type": "display_data",
          "data": {
            "text/plain": [
              "<Figure size 640x480 with 1 Axes>"
            ],
            "image/png": "[encoded data removed]"
          },
          "metadata": {}
        },
        {
          "output_type": "display_data",
          "data": {
            "text/plain": [
              "<Figure size 640x480 with 1 Axes>"
            ],
            "image/png": "[encoded data removed]"
          },
          "metadata": {}
        },
        {
          "output_type": "display_data",
          "data": {
            "text/plain": [
              "<Figure size 640x480 with 1 Axes>"
            ],
            "image/png": "[encoded data removed]"
          },
          "metadata": {}
        },
        {
          "output_type": "display_data",
          "data": {
            "text/plain": [
              "<Figure size 640x480 with 1 Axes>"
            ],
            "image/png": "[encoded data removed]"
          },
          "metadata": {}
        },
        {
          "output_type": "display_data",
          "data": {
            "text/plain": [
              "<Figure size 640x480 with 1 Axes>"
            ],
            "image/png": "[encoded data removed]"
          },
          "metadata": {}
        },
        {
          "output_type": "display_data",
          "data": {
            "text/plain": [
              "<Figure size 640x480 with 1 Axes>"
            ],
            "image/png": "[encoded data removed]"
          },
          "metadata": {}
        },
        {
          "output_type": "display_data",
          "data": {
            "text/plain": [
              "<Figure size 640x480 with 1 Axes>"
            ],
            "image/png": "[encoded data removed]"
          },
          "metadata": {}
        },
        {
          "output_type": "display_data",
          "data": {
            "text/plain": [
              "<Figure size 640x480 with 1 Axes>"
            ],
            "image/png": "[encoded data removed]"
          },
          "metadata": {}
        },
        {
          "output_type": "display_data",
          "data": {
            "text/plain": [
              "<Figure size 640x480 with 1 Axes>"
            ],
            "image/png": "[encoded data removed]"
          },
          "metadata": {}
        },
        {
          "output_type": "display_data",
          "data": {
            "text/plain": [
              "<Figure size 640x480 with 1 Axes>"
            ],
            "image/png": "[encoded data removed]"
          },
          "metadata": {}
        },
        {
          "output_type": "display_data",
          "data": {
            "text/plain": [
              "<Figure size 640x480 with 1 Axes>"
            ],
            "image/png": "[encoded data removed]"
          },
          "metadata": {}
        }
      ]
    },
    {
      "cell_type": "code",
      "source": [
        "for a in range (21):\n",
        "  print(f'przedział od {min(data.iloc[:,1+a])} do {max(data.iloc[:,a])}')"
      ],
      "metadata": {
        "id": "lAzHhJcUFj13",
        "colab": {
          "base_uri": "https://localhost:8080/"
        },
        "outputId": "86086466-3ad3-4768-f086-c8312464d3d0"
      },
      "execution_count": null,
      "outputs": [
        {
          "output_type": "stream",
          "name": "stdout",
          "text": [
            "przedział od 36 do 42\n",
            "przedział od 0 do 85\n",
            "przedział od -4.2625 do 1\n",
            "przedział od 5.0377 do 215.49\n",
            "przedział od 7.0 do 39.511\n",
            "przedział od 0.00083 do 54.992\n",
            "przedział od 2.25e-06 do 0.09999\n",
            "przedział od 0.00033 do 0.00044559\n",
            "przedział od 0.00043 do 0.05754\n",
            "przedział od 0.00098 do 0.06956\n",
            "przedział od 0.00306 do 0.17263\n",
            "przedział od 0.026 do 0.26863\n",
            "przedział od 0.00161 do 2.107\n",
            "przedział od 0.00194 do 0.16267\n",
            "przedział od 0.00249 do 0.16702\n",
            "przedział od 0.00484 do 0.27546\n",
            "przedział od 0.000286 do 0.48802\n",
            "przedział od 1.659 do 0.74826\n",
            "przedział od 0.15102 do 37.875\n",
            "przedział od 0.51404 do 0.96608\n",
            "przedział od 0.021983 do 0.8656\n"
          ]
        }
      ]
    },
    {
      "cell_type": "code",
      "source": [
        "data.shape\n"
      ],
      "metadata": {
        "colab": {
          "base_uri": "https://localhost:8080/"
        },
        "id": "fjzREtxACSto",
        "outputId": "ebd999a4-3ce3-4c15-9165-18fd4bc0dc0e"
      },
      "execution_count": null,
      "outputs": [
        {
          "output_type": "execute_result",
          "data": {
            "text/plain": [
              "(5875, 22)"
            ]
          },
          "metadata": {},
          "execution_count": 13
        }
      ]
    },
    {
      "cell_type": "code",
      "source": [
        "data.describe()"
      ],
      "metadata": {
        "colab": {
          "base_uri": "https://localhost:8080/",
          "height": 394
        },
        "id": "V1zaeagdGoYM",
        "outputId": "d9b56687-9a6d-4c20-bb94-2da069e82ff4"
      },
      "execution_count": null,
      "outputs": [
        {
          "output_type": "execute_result",
          "data": {
            "text/plain": [
              "          subject#          age          sex    test_time  motor_UPDRS  \\\n",
              "count  5875.000000  5875.000000  5875.000000  5875.000000  5875.000000   \n",
              "mean     21.494128    64.804936     0.317787    92.863722    21.296229   \n",
              "std      12.372279     8.821524     0.465656    53.445602     8.129282   \n",
              "min       1.000000    36.000000     0.000000    -4.262500     5.037700   \n",
              "25%      10.000000    58.000000     0.000000    46.847500    15.000000   \n",
              "50%      22.000000    65.000000     0.000000    91.523000    20.871000   \n",
              "75%      33.000000    72.000000     1.000000   138.445000    27.596500   \n",
              "max      42.000000    85.000000     1.000000   215.490000    39.511000   \n",
              "\n",
              "       total_UPDRS    Jitter(%)  Jitter(Abs)   Jitter:RAP  Jitter:PPQ5  ...  \\\n",
              "count  5875.000000  5875.000000  5875.000000  5875.000000  5875.000000  ...   \n",
              "mean     29.018942     0.006154     0.000044     0.002987     0.003277  ...   \n",
              "std      10.700283     0.005624     0.000036     0.003124     0.003732  ...   \n",
              "min       7.000000     0.000830     0.000002     0.000330     0.000430  ...   \n",
              "25%      21.371000     0.003580     0.000022     0.001580     0.001820  ...   \n",
              "50%      27.576000     0.004900     0.000035     0.002250     0.002490  ...   \n",
              "75%      36.399000     0.006800     0.000053     0.003290     0.003460  ...   \n",
              "max      54.992000     0.099990     0.000446     0.057540     0.069560  ...   \n",
              "\n",
              "       Shimmer(dB)  Shimmer:APQ3  Shimmer:APQ5  Shimmer:APQ11  Shimmer:DDA  \\\n",
              "count  5875.000000   5875.000000   5875.000000    5875.000000  5875.000000   \n",
              "mean      0.310960      0.017156      0.020144       0.027481     0.051467   \n",
              "std       0.230254      0.013237      0.016664       0.019986     0.039711   \n",
              "min       0.026000      0.001610      0.001940       0.002490     0.004840   \n",
              "25%       0.175000      0.009280      0.010790       0.015665     0.027830   \n",
              "50%       0.253000      0.013700      0.015940       0.022710     0.041110   \n",
              "75%       0.365000      0.020575      0.023755       0.032715     0.061735   \n",
              "max       2.107000      0.162670      0.167020       0.275460     0.488020   \n",
              "\n",
              "               NHR          HNR         RPDE          DFA          PPE  \n",
              "count  5875.000000  5875.000000  5875.000000  5875.000000  5875.000000  \n",
              "mean      0.032120    21.679495     0.541473     0.653240     0.219589  \n",
              "std       0.059692     4.291096     0.100986     0.070902     0.091498  \n",
              "min       0.000286     1.659000     0.151020     0.514040     0.021983  \n",
              "25%       0.010955    19.406000     0.469785     0.596180     0.156340  \n",
              "50%       0.018448    21.920000     0.542250     0.643600     0.205500  \n",
              "75%       0.031463    24.444000     0.614045     0.711335     0.264490  \n",
              "max       0.748260    37.875000     0.966080     0.865600     0.731730  \n",
              "\n",
              "[8 rows x 22 columns]"
            ],
            "text/html": [
              "\n",
              "  <div id=\"df-984788a0-8a52-4b51-81d9-9a280d704f06\">\n",
              "    <div class=\"colab-df-container\">\n",
              "      <div>\n",
              "<style scoped>\n",
              "    .dataframe tbody tr th:only-of-type {\n",
              "        vertical-align: middle;\n",
              "    }\n",
              "\n",
              "    .dataframe tbody tr th {\n",
              "        vertical-align: top;\n",
              "    }\n",
              "\n",
              "    .dataframe thead th {\n",
              "        text-align: right;\n",
              "    }\n",
              "</style>\n",
              "<table border=\"1\" class=\"dataframe\">\n",
              "  <thead>\n",
              "    <tr style=\"text-align: right;\">\n",
              "      <th></th>\n",
              "      <th>subject#</th>\n",
              "      <th>age</th>\n",
              "      <th>sex</th>\n",
              "      <th>test_time</th>\n",
              "      <th>motor_UPDRS</th>\n",
              "      <th>total_UPDRS</th>\n",
              "      <th>Jitter(%)</th>\n",
              "      <th>Jitter(Abs)</th>\n",
              "      <th>Jitter:RAP</th>\n",
              "      <th>Jitter:PPQ5</th>\n",
              "      <th>...</th>\n",
              "      <th>Shimmer(dB)</th>\n",
              "      <th>Shimmer:APQ3</th>\n",
              "      <th>Shimmer:APQ5</th>\n",
              "      <th>Shimmer:APQ11</th>\n",
              "      <th>Shimmer:DDA</th>\n",
              "      <th>NHR</th>\n",
              "      <th>HNR</th>\n",
              "      <th>RPDE</th>\n",
              "      <th>DFA</th>\n",
              "      <th>PPE</th>\n",
              "    </tr>\n",
              "  </thead>\n",
              "  <tbody>\n",
              "    <tr>\n",
              "      <th>count</th>\n",
              "      <td>5875.000000</td>\n",
              "      <td>5875.000000</td>\n",
              "      <td>5875.000000</td>\n",
              "      <td>5875.000000</td>\n",
              "      <td>5875.000000</td>\n",
              "      <td>5875.000000</td>\n",
              "      <td>5875.000000</td>\n",
              "      <td>5875.000000</td>\n",
              "      <td>5875.000000</td>\n",
              "      <td>5875.000000</td>\n",
              "      <td>...</td>\n",
              "      <td>5875.000000</td>\n",
              "      <td>5875.000000</td>\n",
              "      <td>5875.000000</td>\n",
              "      <td>5875.000000</td>\n",
              "      <td>5875.000000</td>\n",
              "      <td>5875.000000</td>\n",
              "      <td>5875.000000</td>\n",
              "      <td>5875.000000</td>\n",
              "      <td>5875.000000</td>\n",
              "      <td>5875.000000</td>\n",
              "    </tr>\n",
              "    <tr>\n",
              "      <th>mean</th>\n",
              "      <td>21.494128</td>\n",
              "      <td>64.804936</td>\n",
              "      <td>0.317787</td>\n",
              "      <td>92.863722</td>\n",
              "      <td>21.296229</td>\n",
              "      <td>29.018942</td>\n",
              "      <td>0.006154</td>\n",
              "      <td>0.000044</td>\n",
              "      <td>0.002987</td>\n",
              "      <td>0.003277</td>\n",
              "      <td>...</td>\n",
              "      <td>0.310960</td>\n",
              "      <td>0.017156</td>\n",
              "      <td>0.020144</td>\n",
              "      <td>0.027481</td>\n",
              "      <td>0.051467</td>\n",
              "      <td>0.032120</td>\n",
              "      <td>21.679495</td>\n",
              "      <td>0.541473</td>\n",
              "      <td>0.653240</td>\n",
              "      <td>0.219589</td>\n",
              "    </tr>\n",
              "    <tr>\n",
              "      <th>std</th>\n",
              "      <td>12.372279</td>\n",
              "      <td>8.821524</td>\n",
              "      <td>0.465656</td>\n",
              "      <td>53.445602</td>\n",
              "      <td>8.129282</td>\n",
              "      <td>10.700283</td>\n",
              "      <td>0.005624</td>\n",
              "      <td>0.000036</td>\n",
              "      <td>0.003124</td>\n",
              "      <td>0.003732</td>\n",
              "      <td>...</td>\n",
              "      <td>0.230254</td>\n",
              "      <td>0.013237</td>\n",
              "      <td>0.016664</td>\n",
              "      <td>0.019986</td>\n",
              "      <td>0.039711</td>\n",
              "      <td>0.059692</td>\n",
              "      <td>4.291096</td>\n",
              "      <td>0.100986</td>\n",
              "      <td>0.070902</td>\n",
              "      <td>0.091498</td>\n",
              "    </tr>\n",
              "    <tr>\n",
              "      <th>min</th>\n",
              "      <td>1.000000</td>\n",
              "      <td>36.000000</td>\n",
              "      <td>0.000000</td>\n",
              "      <td>-4.262500</td>\n",
              "      <td>5.037700</td>\n",
              "      <td>7.000000</td>\n",
              "      <td>0.000830</td>\n",
              "      <td>0.000002</td>\n",
              "      <td>0.000330</td>\n",
              "      <td>0.000430</td>\n",
              "      <td>...</td>\n",
              "      <td>0.026000</td>\n",
              "      <td>0.001610</td>\n",
              "      <td>0.001940</td>\n",
              "      <td>0.002490</td>\n",
              "      <td>0.004840</td>\n",
              "      <td>0.000286</td>\n",
              "      <td>1.659000</td>\n",
              "      <td>0.151020</td>\n",
              "      <td>0.514040</td>\n",
              "      <td>0.021983</td>\n",
              "    </tr>\n",
              "    <tr>\n",
              "      <th>25%</th>\n",
              "      <td>10.000000</td>\n",
              "      <td>58.000000</td>\n",
              "      <td>0.000000</td>\n",
              "      <td>46.847500</td>\n",
              "      <td>15.000000</td>\n",
              "      <td>21.371000</td>\n",
              "      <td>0.003580</td>\n",
              "      <td>0.000022</td>\n",
              "      <td>0.001580</td>\n",
              "      <td>0.001820</td>\n",
              "      <td>...</td>\n",
              "      <td>0.175000</td>\n",
              "      <td>0.009280</td>\n",
              "      <td>0.010790</td>\n",
              "      <td>0.015665</td>\n",
              "      <td>0.027830</td>\n",
              "      <td>0.010955</td>\n",
              "      <td>19.406000</td>\n",
              "      <td>0.469785</td>\n",
              "      <td>0.596180</td>\n",
              "      <td>0.156340</td>\n",
              "    </tr>\n",
              "    <tr>\n",
              "      <th>50%</th>\n",
              "      <td>22.000000</td>\n",
              "      <td>65.000000</td>\n",
              "      <td>0.000000</td>\n",
              "      <td>91.523000</td>\n",
              "      <td>20.871000</td>\n",
              "      <td>27.576000</td>\n",
              "      <td>0.004900</td>\n",
              "      <td>0.000035</td>\n",
              "      <td>0.002250</td>\n",
              "      <td>0.002490</td>\n",
              "      <td>...</td>\n",
              "      <td>0.253000</td>\n",
              "      <td>0.013700</td>\n",
              "      <td>0.015940</td>\n",
              "      <td>0.022710</td>\n",
              "      <td>0.041110</td>\n",
              "      <td>0.018448</td>\n",
              "      <td>21.920000</td>\n",
              "      <td>0.542250</td>\n",
              "      <td>0.643600</td>\n",
              "      <td>0.205500</td>\n",
              "    </tr>\n",
              "    <tr>\n",
              "      <th>75%</th>\n",
              "      <td>33.000000</td>\n",
              "      <td>72.000000</td>\n",
              "      <td>1.000000</td>\n",
              "      <td>138.445000</td>\n",
              "      <td>27.596500</td>\n",
              "      <td>36.399000</td>\n",
              "      <td>0.006800</td>\n",
              "      <td>0.000053</td>\n",
              "      <td>0.003290</td>\n",
              "      <td>0.003460</td>\n",
              "      <td>...</td>\n",
              "      <td>0.365000</td>\n",
              "      <td>0.020575</td>\n",
              "      <td>0.023755</td>\n",
              "      <td>0.032715</td>\n",
              "      <td>0.061735</td>\n",
              "      <td>0.031463</td>\n",
              "      <td>24.444000</td>\n",
              "      <td>0.614045</td>\n",
              "      <td>0.711335</td>\n",
              "      <td>0.264490</td>\n",
              "    </tr>\n",
              "    <tr>\n",
              "      <th>max</th>\n",
              "      <td>42.000000</td>\n",
              "      <td>85.000000</td>\n",
              "      <td>1.000000</td>\n",
              "      <td>215.490000</td>\n",
              "      <td>39.511000</td>\n",
              "      <td>54.992000</td>\n",
              "      <td>0.099990</td>\n",
              "      <td>0.000446</td>\n",
              "      <td>0.057540</td>\n",
              "      <td>0.069560</td>\n",
              "      <td>...</td>\n",
              "      <td>2.107000</td>\n",
              "      <td>0.162670</td>\n",
              "      <td>0.167020</td>\n",
              "      <td>0.275460</td>\n",
              "      <td>0.488020</td>\n",
              "      <td>0.748260</td>\n",
              "      <td>37.875000</td>\n",
              "      <td>0.966080</td>\n",
              "      <td>0.865600</td>\n",
              "      <td>0.731730</td>\n",
              "    </tr>\n",
              "  </tbody>\n",
              "</table>\n",
              "<p>8 rows × 22 columns</p>\n",
              "</div>\n",
              "      <button class=\"colab-df-convert\" onclick=\"convertToInteractive('df-984788a0-8a52-4b51-81d9-9a280d704f06')\"\n",
              "              title=\"Convert this dataframe to an interactive table.\"\n",
              "              style=\"display:none;\">\n",
              "        \n",
              "  <svg xmlns=\"http://www.w3.org/2000/svg\" height=\"24px\"viewBox=\"0 0 24 24\"\n",
              "       width=\"24px\">\n",
              "    <path d=\"M0 0h24v24H0V0z\" fill=\"none\"/>\n",
              "    <path d=\"M18.56 5.44l.94 2.06.94-2.06 2.06-.94-2.06-.94-.94-2.06-.94 2.06-2.06.94zm-11 1L8.5 8.5l.94-2.06 2.06-.94-2.06-.94L8.5 2.5l-.94 2.06-2.06.94zm10 10l.94 2.06.94-2.06 2.06-.94-2.06-.94-.94-2.06-.94 2.06-2.06.94z\"/><path d=\"M17.41 7.96l-1.37-1.37c-.4-.4-.92-.59-1.43-.59-.52 0-1.04.2-1.43.59L10.3 9.45l-7.72 7.72c-.78.78-.78 2.05 0 2.83L4 21.41c.39.39.9.59 1.41.59.51 0 1.02-.2 1.41-.59l7.78-7.78 2.81-2.81c.8-.78.8-2.07 0-2.86zM5.41 20L4 18.59l7.72-7.72 1.47 1.35L5.41 20z\"/>\n",
              "  </svg>\n",
              "      </button>\n",
              "      \n",
              "  <style>\n",
              "    .colab-df-container {\n",
              "      display:flex;\n",
              "      flex-wrap:wrap;\n",
              "      gap: 12px;\n",
              "    }\n",
              "\n",
              "    .colab-df-convert {\n",
              "      background-color: #E8F0FE;\n",
              "      border: none;\n",
              "      border-radius: 50%;\n",
              "      cursor: pointer;\n",
              "      display: none;\n",
              "      fill: #1967D2;\n",
              "      height: 32px;\n",
              "      padding: 0 0 0 0;\n",
              "      width: 32px;\n",
              "    }\n",
              "\n",
              "    .colab-df-convert:hover {\n",
              "      background-color: #E2EBFA;\n",
              "      box-shadow: 0px 1px 2px rgba(60, 64, 67, 0.3), 0px 1px 3px 1px rgba(60, 64, 67, 0.15);\n",
              "      fill: #174EA6;\n",
              "    }\n",
              "\n",
              "    [theme=dark] .colab-df-convert {\n",
              "      background-color: #3B4455;\n",
              "      fill: #D2E3FC;\n",
              "    }\n",
              "\n",
              "    [theme=dark] .colab-df-convert:hover {\n",
              "      background-color: #434B5C;\n",
              "      box-shadow: 0px 1px 3px 1px rgba(0, 0, 0, 0.15);\n",
              "      filter: drop-shadow(0px 1px 2px rgba(0, 0, 0, 0.3));\n",
              "      fill: #FFFFFF;\n",
              "    }\n",
              "  </style>\n",
              "\n",
              "      <script>\n",
              "        const buttonEl =\n",
              "          document.querySelector('#df-984788a0-8a52-4b51-81d9-9a280d704f06 button.colab-df-convert');\n",
              "        buttonEl.style.display =\n",
              "          google.colab.kernel.accessAllowed ? 'block' : 'none';\n",
              "\n",
              "        async function convertToInteractive(key) {\n",
              "          const element = document.querySelector('#df-984788a0-8a52-4b51-81d9-9a280d704f06');\n",
              "          const dataTable =\n",
              "            await google.colab.kernel.invokeFunction('convertToInteractive',\n",
              "                                                     [key], {});\n",
              "          if (!dataTable) return;\n",
              "\n",
              "          const docLinkHtml = 'Like what you see? Visit the ' +\n",
              "            '<a target=\"_blank\" href=https://colab.research.google.com/notebooks/data_table.ipynb>data table notebook</a>'\n",
              "            + ' to learn more about interactive tables.';\n",
              "          element.innerHTML = '';\n",
              "          dataTable['output_type'] = 'display_data';\n",
              "          await google.colab.output.renderOutput(dataTable, element);\n",
              "          const docLink = document.createElement('div');\n",
              "          docLink.innerHTML = docLinkHtml;\n",
              "          element.appendChild(docLink);\n",
              "        }\n",
              "      </script>\n",
              "    </div>\n",
              "  </div>\n",
              "  "
            ]
          },
          "metadata": {},
          "execution_count": 14
        }
      ]
    },
    {
      "cell_type": "code",
      "source": [
        "#Wyznacznik osoby chorej na parkinsona\n",
        "data['motor_UPDRS'].value_counts()\n",
        "data['total_UPDRS'].value_counts()"
      ],
      "metadata": {
        "colab": {
          "base_uri": "https://localhost:8080/"
        },
        "id": "h7QG1sGmIldW",
        "outputId": "661716d1-b01e-412a-b076-36057f0997eb"
      },
      "execution_count": null,
      "outputs": [
        {
          "output_type": "execute_result",
          "data": {
            "text/plain": [
              "32.0000    109\n",
              "19.0000     70\n",
              "7.0000      54\n",
              "20.4910     12\n",
              "26.6180     12\n",
              "          ... \n",
              "27.2910      1\n",
              "7.1698       1\n",
              "50.4170      1\n",
              "29.4580      1\n",
              "35.4010      1\n",
              "Name: total_UPDRS, Length: 1129, dtype: int64"
            ]
          },
          "metadata": {},
          "execution_count": 15
        }
      ]
    },
    {
      "cell_type": "code",
      "source": [
        "#Deleting useles data\n",
        "data.drop(columns = ['subject#'],axis = 1,  inplace = True)\n",
        "selectiveData.drop(columns = ['subject#'],axis = 1,  inplace = True)"
      ],
      "metadata": {
        "id": "UEi_WkyNKJXX"
      },
      "execution_count": null,
      "outputs": []
    },
    {
      "cell_type": "code",
      "source": [
        "#normalization\n",
        "from sklearn.preprocessing import StandardScaler\n",
        "scaler= StandardScaler()\n",
        "data=scaler.fit_transform(data)\n",
        "\n",
        "data=pd.DataFrame(data,columns=['age','sex','test_time','motor_UPDRS','total_UPDRS','Jitter(%)','Jitter(Abs)','Jitter:RAP','Jitter:PPQ5','Jitter:DDP','Shimmer','Shimmer(dB)','Shimmer:APQ3','Shimmer:APQ5','Shimmer:APQ11','Shimmer:DDA','NHR','HNR','RPDE','DFA','PPE'])"
      ],
      "metadata": {
        "id": "OGixLa-PJwaM"
      },
      "execution_count": null,
      "outputs": []
    },
    {
      "cell_type": "code",
      "source": [
        "#data['total_UPDRS'] = data['total_UPDRS'].astype('int64')\n",
        "\n",
        "X = data.drop(columns=['motor_UPDRS','total_UPDRS'],axis=1)\n",
        "Y=data['total_UPDRS']\n",
        "Z=data['motor_UPDRS']\n",
        "\n",
        "XS = data.drop(columns=['motor_UPDRS','total_UPDRS'],axis=1)\n",
        "YS=data['total_UPDRS']\n",
        "ZS=data['motor_UPDRS']"
      ],
      "metadata": {
        "id": "f06RdtswPMuE"
      },
      "execution_count": null,
      "outputs": []
    },
    {
      "cell_type": "code",
      "source": [
        "Y.describe()\n"
      ],
      "metadata": {
        "colab": {
          "base_uri": "https://localhost:8080/"
        },
        "id": "qI6QOsolQGs0",
        "outputId": "8afa67c8-63f2-403e-e41f-9d031ebc58e6"
      },
      "execution_count": null,
      "outputs": [
        {
          "output_type": "execute_result",
          "data": {
            "text/plain": [
              "count    5875.000000\n",
              "mean        0.458804\n",
              "std         0.222960\n",
              "min         0.000000\n",
              "25%         0.299446\n",
              "50%         0.428738\n",
              "75%         0.612581\n",
              "max         1.000000\n",
              "Name: total_UPDRS, dtype: float64"
            ]
          },
          "metadata": {},
          "execution_count": 20
        }
      ]
    },
    {
      "cell_type": "code",
      "source": [
        "#Train, Test, Valid Data\n",
        "from sklearn.model_selection import train_test_split\n",
        "\n",
        "#param for total_UPDRS\n",
        "\n",
        "XS_train, XS_test, ys_train, ys_test = train_test_split(XS, YS,\n",
        "    test_size=0.2, shuffle = True, random_state= 8)\n",
        "\n",
        "# Use the same function above for the validation set\n",
        "XS_train, XS_val, ys_train, ys_val = train_test_split(XS_train, ys_train,\n",
        "    test_size=0.25,  random_state= 8) # 0.25 x 0.8 = 0.2\n",
        "\n",
        "#param motor_UPDRS\n",
        "\n",
        "XZS_train, XZS_test, ZS_train, ZS_test = train_test_split(XS, ZS,\n",
        "    test_size=0.2, shuffle = True, random_state= 8)\n",
        "\n",
        "# Use the same function above for the validation set\n",
        "XZS_train, XZS_val, ZS_train, ZS_val = train_test_split(XZS_train, ZS_train,\n",
        "    test_size=0.25,  random_state= 8) # 0.25 x 0.8 = 0.2\n",
        "\n"
      ],
      "metadata": {
        "id": "oX3EBvBNRT3m"
      },
      "execution_count": null,
      "outputs": []
    },
    {
      "cell_type": "code",
      "source": [
        "#Train, Test, Valid Data\n",
        "from sklearn.model_selection import train_test_split\n",
        "\n",
        "#param for total_UPDRS\n",
        "\n",
        "X_train, X_test, y_train, y_test = train_test_split(X, Y,\n",
        "    test_size=0.2, shuffle = True, random_state= 8)\n",
        "\n",
        "# Use the same function above for the validation set\n",
        "X_train, X_val, y_train, y_val = train_test_split(X_train, y_train,\n",
        "    test_size=0.25,  random_state= 8) # 0.25 x 0.8 = 0.2\n",
        "\n",
        "#param motor_UPDRS\n",
        "\n",
        "XZ_train, XZ_test, Z_train, Z_test = train_test_split(X, Z,\n",
        "    test_size=0.2, shuffle = True, random_state= 8)\n",
        "\n",
        "# Use the same function above for the validation set\n",
        "XZ_train, XZ_val, Z_train, Z_val = train_test_split(XZ_train, Z_train,\n",
        "    test_size=0.25,  random_state= 8) # 0.25 x 0.8 = 0.2"
      ],
      "metadata": {
        "id": "PF8Yif6uMb0r"
      },
      "execution_count": null,
      "outputs": []
    },
    {
      "cell_type": "code",
      "source": [
        "model = XGBRegressor().fit(X_train,y_train)\n",
        "y_pred = model.predict(X_test)"
      ],
      "metadata": {
        "id": "7fh0fJJz474R"
      },
      "execution_count": null,
      "outputs": []
    },
    {
      "cell_type": "code",
      "source": [
        "\n",
        "model_dict = {\n",
        "    #'Logistic Regression' : LogisticRegression(),\n",
        "    'RandomForestRegressor' : RandomForestRegressor(),\n",
        "    'AdaBoostRegressor' : AdaBoostRegressor(),\n",
        "    'GradientBoostingRegressor' : GradientBoostingRegressor(),\n",
        "    'XGBRegressor' : XGBRegressor()\n",
        "}\n",
        "\n",
        "model_score = pd.DataFrame()\n",
        "\n",
        "for curr_model in model_dict:\n",
        "    model = model_dict[curr_model]\n",
        "    model.fit(X_train, y_train)\n",
        "    y_pred = model.predict(X_test)\n",
        "    model_score = model_score.append({  'Model' : curr_model,\n",
        "                                        'mean_absolute_error' : round(mean_absolute_error(y_test, y_pred),3),\n",
        "                                        'mean_squared_error' : round(mean_squared_error(y_test, y_pred),3),\n",
        "                                        'r2_score' : round(r2_score(y_test, y_pred),3),\n",
        "                                        #'F1 Score' : round(f1_score(y_test, y_pred),3)\n",
        "                                        }, ignore_index=True)\n",
        "\n",
        "model_score.head()"
      ],
      "metadata": {
        "colab": {
          "base_uri": "https://localhost:8080/",
          "height": 175
        },
        "id": "tElgZsD0iAFL",
        "outputId": "eb7a1074-7950-490f-f0e0-577091e9b7ab"
      },
      "execution_count": null,
      "outputs": [
        {
          "output_type": "execute_result",
          "data": {
            "text/plain": [
              "                       Model  mean_absolute_error  mean_squared_error  \\\n",
              "0      RandomForestRegressor                0.094               0.037   \n",
              "1          AdaBoostRegressor                0.686               0.621   \n",
              "2  GradientBoostingRegressor                0.361               0.217   \n",
              "3               XGBRegressor                0.145               0.050   \n",
              "\n",
              "   r2_score  \n",
              "0     0.963  \n",
              "1     0.381  \n",
              "2     0.784  \n",
              "3     0.950  "
            ],
            "text/html": [
              "\n",
              "  <div id=\"df-45d2bbef-7410-4206-9a94-04a1372d8d09\">\n",
              "    <div class=\"colab-df-container\">\n",
              "      <div>\n",
              "<style scoped>\n",
              "    .dataframe tbody tr th:only-of-type {\n",
              "        vertical-align: middle;\n",
              "    }\n",
              "\n",
              "    .dataframe tbody tr th {\n",
              "        vertical-align: top;\n",
              "    }\n",
              "\n",
              "    .dataframe thead th {\n",
              "        text-align: right;\n",
              "    }\n",
              "</style>\n",
              "<table border=\"1\" class=\"dataframe\">\n",
              "  <thead>\n",
              "    <tr style=\"text-align: right;\">\n",
              "      <th></th>\n",
              "      <th>Model</th>\n",
              "      <th>mean_absolute_error</th>\n",
              "      <th>mean_squared_error</th>\n",
              "      <th>r2_score</th>\n",
              "    </tr>\n",
              "  </thead>\n",
              "  <tbody>\n",
              "    <tr>\n",
              "      <th>0</th>\n",
              "      <td>RandomForestRegressor</td>\n",
              "      <td>0.094</td>\n",
              "      <td>0.037</td>\n",
              "      <td>0.963</td>\n",
              "    </tr>\n",
              "    <tr>\n",
              "      <th>1</th>\n",
              "      <td>AdaBoostRegressor</td>\n",
              "      <td>0.686</td>\n",
              "      <td>0.621</td>\n",
              "      <td>0.381</td>\n",
              "    </tr>\n",
              "    <tr>\n",
              "      <th>2</th>\n",
              "      <td>GradientBoostingRegressor</td>\n",
              "      <td>0.361</td>\n",
              "      <td>0.217</td>\n",
              "      <td>0.784</td>\n",
              "    </tr>\n",
              "    <tr>\n",
              "      <th>3</th>\n",
              "      <td>XGBRegressor</td>\n",
              "      <td>0.145</td>\n",
              "      <td>0.050</td>\n",
              "      <td>0.950</td>\n",
              "    </tr>\n",
              "  </tbody>\n",
              "</table>\n",
              "</div>\n",
              "      <button class=\"colab-df-convert\" onclick=\"convertToInteractive('df-45d2bbef-7410-4206-9a94-04a1372d8d09')\"\n",
              "              title=\"Convert this dataframe to an interactive table.\"\n",
              "              style=\"display:none;\">\n",
              "        \n",
              "  <svg xmlns=\"http://www.w3.org/2000/svg\" height=\"24px\"viewBox=\"0 0 24 24\"\n",
              "       width=\"24px\">\n",
              "    <path d=\"M0 0h24v24H0V0z\" fill=\"none\"/>\n",
              "    <path d=\"M18.56 5.44l.94 2.06.94-2.06 2.06-.94-2.06-.94-.94-2.06-.94 2.06-2.06.94zm-11 1L8.5 8.5l.94-2.06 2.06-.94-2.06-.94L8.5 2.5l-.94 2.06-2.06.94zm10 10l.94 2.06.94-2.06 2.06-.94-2.06-.94-.94-2.06-.94 2.06-2.06.94z\"/><path d=\"M17.41 7.96l-1.37-1.37c-.4-.4-.92-.59-1.43-.59-.52 0-1.04.2-1.43.59L10.3 9.45l-7.72 7.72c-.78.78-.78 2.05 0 2.83L4 21.41c.39.39.9.59 1.41.59.51 0 1.02-.2 1.41-.59l7.78-7.78 2.81-2.81c.8-.78.8-2.07 0-2.86zM5.41 20L4 18.59l7.72-7.72 1.47 1.35L5.41 20z\"/>\n",
              "  </svg>\n",
              "      </button>\n",
              "      \n",
              "  <style>\n",
              "    .colab-df-container {\n",
              "      display:flex;\n",
              "      flex-wrap:wrap;\n",
              "      gap: 12px;\n",
              "    }\n",
              "\n",
              "    .colab-df-convert {\n",
              "      background-color: #E8F0FE;\n",
              "      border: none;\n",
              "      border-radius: 50%;\n",
              "      cursor: pointer;\n",
              "      display: none;\n",
              "      fill: #1967D2;\n",
              "      height: 32px;\n",
              "      padding: 0 0 0 0;\n",
              "      width: 32px;\n",
              "    }\n",
              "\n",
              "    .colab-df-convert:hover {\n",
              "      background-color: #E2EBFA;\n",
              "      box-shadow: 0px 1px 2px rgba(60, 64, 67, 0.3), 0px 1px 3px 1px rgba(60, 64, 67, 0.15);\n",
              "      fill: #174EA6;\n",
              "    }\n",
              "\n",
              "    [theme=dark] .colab-df-convert {\n",
              "      background-color: #3B4455;\n",
              "      fill: #D2E3FC;\n",
              "    }\n",
              "\n",
              "    [theme=dark] .colab-df-convert:hover {\n",
              "      background-color: #434B5C;\n",
              "      box-shadow: 0px 1px 3px 1px rgba(0, 0, 0, 0.15);\n",
              "      filter: drop-shadow(0px 1px 2px rgba(0, 0, 0, 0.3));\n",
              "      fill: #FFFFFF;\n",
              "    }\n",
              "  </style>\n",
              "\n",
              "      <script>\n",
              "        const buttonEl =\n",
              "          document.querySelector('#df-45d2bbef-7410-4206-9a94-04a1372d8d09 button.colab-df-convert');\n",
              "        buttonEl.style.display =\n",
              "          google.colab.kernel.accessAllowed ? 'block' : 'none';\n",
              "\n",
              "        async function convertToInteractive(key) {\n",
              "          const element = document.querySelector('#df-45d2bbef-7410-4206-9a94-04a1372d8d09');\n",
              "          const dataTable =\n",
              "            await google.colab.kernel.invokeFunction('convertToInteractive',\n",
              "                                                     [key], {});\n",
              "          if (!dataTable) return;\n",
              "\n",
              "          const docLinkHtml = 'Like what you see? Visit the ' +\n",
              "            '<a target=\"_blank\" href=https://colab.research.google.com/notebooks/data_table.ipynb>data table notebook</a>'\n",
              "            + ' to learn more about interactive tables.';\n",
              "          element.innerHTML = '';\n",
              "          dataTable['output_type'] = 'display_data';\n",
              "          await google.colab.output.renderOutput(dataTable, element);\n",
              "          const docLink = document.createElement('div');\n",
              "          docLink.innerHTML = docLinkHtml;\n",
              "          element.appendChild(docLink);\n",
              "        }\n",
              "      </script>\n",
              "    </div>\n",
              "  </div>\n",
              "  "
            ]
          },
          "metadata": {},
          "execution_count": 93
        }
      ]
    },
    {
      "cell_type": "code",
      "source": [
        "\n",
        "max_accuracy= min(model_score['mean_squared_error'])\n",
        "best_model = model_score[model_score['mean_squared_error'] == max_accuracy ]['Model'].values[0]\n",
        "best_model"
      ],
      "metadata": {
        "colab": {
          "base_uri": "https://localhost:8080/",
          "height": 35
        },
        "id": "lMLeNMagoA2t",
        "outputId": "caa07c4b-b6e4-4421-8775-3d46786c9218"
      },
      "execution_count": null,
      "outputs": [
        {
          "output_type": "execute_result",
          "data": {
            "text/plain": [
              "'RandomForestRegressor'"
            ],
            "application/vnd.google.colaboratory.intrinsic+json": {
              "type": "string"
            }
          },
          "metadata": {},
          "execution_count": 94
        }
      ]
    },
    {
      "cell_type": "code",
      "source": [
        "model_params = {\n",
        "\n",
        "    'RandomForestRegressor' : {\n",
        "        #random forest Parameters\n",
        "        'n_estimators' : [x*25 + 50 for x in range(1, 8)],\n",
        "        'max_samples' : [.25,.5,.75],\n",
        "        'max_features' : ['sqrt', 'log2'],\n",
        "\n",
        "        #Base Estimator(DT) Parameters\n",
        "        'criterion' : ['squared_error', 'absolute_error'],\n",
        "        'max_depth' : [5,7,9,11],\n",
        "        'min_samples_split' : [15, 20, 25],\n",
        "        'min_samples_leaf' : [15, 20, 25]\n",
        "    },\n",
        "    'AdaBoostRegressor' : {\n",
        "        'n_estimators' : [x*25 + 50 for x in range(1, 15)],\n",
        "        'learning_rate' : [0.001, 0.01, 0.05, 0.1, 1,5],\n",
        "        'loss' : ['linear', 'square']\n",
        "    },\n",
        "    'GradientBoostingRegressor' : {\n",
        "        'learning_rate' : [0.01,0.1,0.5],\n",
        "        'n_estimators' : [x*25 + 50 for x in range(1, 8)],\n",
        "        'min_samples_split' : [15,30,50],\n",
        "        'min_samples_leaf' : [5,10,15,20],\n",
        "        'max_depth' : [5,7,10],\n",
        "        'min_impurity_decrease': [0.1, 0.3],\n",
        "        'max_features': ['sqrt', 'log2']\n",
        "    },\n",
        "    'XGBRegressor' : {\n",
        "        'max_depth' : [5,7,9,11]\n",
        "    }\n",
        "}"
      ],
      "metadata": {
        "id": "1zjo_mo_nqpe"
      },
      "execution_count": null,
      "outputs": []
    },
    {
      "cell_type": "code",
      "source": [
        "sklearn.metrics.get_scorer_names()"
      ],
      "metadata": {
        "id": "IgZuWeKeBouV",
        "colab": {
          "base_uri": "https://localhost:8080/"
        },
        "outputId": "6c761e07-7492-455e-915a-3ccc362ed10d"
      },
      "execution_count": null,
      "outputs": [
        {
          "output_type": "execute_result",
          "data": {
            "text/plain": [
              "['accuracy',\n",
              " 'adjusted_mutual_info_score',\n",
              " 'adjusted_rand_score',\n",
              " 'average_precision',\n",
              " 'balanced_accuracy',\n",
              " 'completeness_score',\n",
              " 'explained_variance',\n",
              " 'f1',\n",
              " 'f1_macro',\n",
              " 'f1_micro',\n",
              " 'f1_samples',\n",
              " 'f1_weighted',\n",
              " 'fowlkes_mallows_score',\n",
              " 'homogeneity_score',\n",
              " 'jaccard',\n",
              " 'jaccard_macro',\n",
              " 'jaccard_micro',\n",
              " 'jaccard_samples',\n",
              " 'jaccard_weighted',\n",
              " 'matthews_corrcoef',\n",
              " 'max_error',\n",
              " 'mutual_info_score',\n",
              " 'neg_brier_score',\n",
              " 'neg_log_loss',\n",
              " 'neg_mean_absolute_error',\n",
              " 'neg_mean_absolute_percentage_error',\n",
              " 'neg_mean_gamma_deviance',\n",
              " 'neg_mean_poisson_deviance',\n",
              " 'neg_mean_squared_error',\n",
              " 'neg_mean_squared_log_error',\n",
              " 'neg_median_absolute_error',\n",
              " 'neg_negative_likelihood_ratio',\n",
              " 'neg_root_mean_squared_error',\n",
              " 'normalized_mutual_info_score',\n",
              " 'positive_likelihood_ratio',\n",
              " 'precision',\n",
              " 'precision_macro',\n",
              " 'precision_micro',\n",
              " 'precision_samples',\n",
              " 'precision_weighted',\n",
              " 'r2',\n",
              " 'rand_score',\n",
              " 'recall',\n",
              " 'recall_macro',\n",
              " 'recall_micro',\n",
              " 'recall_samples',\n",
              " 'recall_weighted',\n",
              " 'roc_auc',\n",
              " 'roc_auc_ovo',\n",
              " 'roc_auc_ovo_weighted',\n",
              " 'roc_auc_ovr',\n",
              " 'roc_auc_ovr_weighted',\n",
              " 'top_k_accuracy',\n",
              " 'v_measure_score']"
            ]
          },
          "metadata": {},
          "execution_count": 27
        }
      ]
    },
    {
      "cell_type": "code",
      "source": [
        "best_model_cv = RandomizedSearchCV(model_dict[best_model], model_params[best_model], cv = 5,n_iter=30, scoring = 'neg_mean_absolute_error')  #RandomSearch\n",
        "best_model_cv.fit(X_train, y_train)\n",
        "\n",
        "print('Best Hyper Parameters for {}: \\n{}'.format(best_model, best_model_cv.best_params_))\n",
        "print('Best score for {} using above Hyper Parameters: {}'.format(best_model, best_model_cv.best_score_))"
      ],
      "metadata": {
        "colab": {
          "base_uri": "https://localhost:8080/"
        },
        "id": "6aRxCtjQntt_",
        "outputId": "5d2869e2-0534-4e00-f41f-55aa2fdefcd9"
      },
      "execution_count": null,
      "outputs": [
        {
          "output_type": "stream",
          "name": "stdout",
          "text": [
            "Best Hyper Parameters for RandomForestRegressor: \n",
            "{'n_estimators': 75, 'min_samples_split': 25, 'min_samples_leaf': 15, 'max_samples': 0.75, 'max_features': 'log2', 'max_depth': 11, 'criterion': 'absolute_error'}\n",
            "Best score for RandomForestRegressor using above Hyper Parameters: -0.5519220683492119\n"
          ]
        }
      ]
    },
    {
      "cell_type": "code",
      "source": [
        "_best_model = model_dict[best_model]\n",
        "_best_model.fit(X_train,y_train)\n",
        "\n",
        "y_pred = _best_model.predict(X_test)\n",
        "\n",
        "#Evaluation Matrix\n",
        "print(f'mean_absolute_error : {round(mean_absolute_error(y_test, y_pred),3)}')\n",
        "print(f'mean_squared_error : {round(mean_squared_error(y_test, y_pred),3)}')\n",
        "print(f'r2_score : {round(r2_score(y_test, y_pred),3)}')"
      ],
      "metadata": {
        "colab": {
          "base_uri": "https://localhost:8080/"
        },
        "id": "faL2ddLh16rx",
        "outputId": "50278826-5e75-4d77-a1a3-9ad03d2a5566"
      },
      "execution_count": null,
      "outputs": [
        {
          "output_type": "stream",
          "name": "stdout",
          "text": [
            "mean_absolute_error : 0.098\n",
            "mean_squared_error : 0.037\n",
            "r2_score : 0.963\n"
          ]
        }
      ]
    },
    {
      "cell_type": "code",
      "source": [
        "\n",
        "model_dict = {\n",
        "    #'Logistic Regression' : LogisticRegression(),\n",
        "    'RandomForestRegressor' : RandomForestRegressor(),\n",
        "    'AdaBoostRegressor' : AdaBoostRegressor(),\n",
        "    'GradientBoostingRegressor' : GradientBoostingRegressor(),\n",
        "    'XGBRegressor' : XGBRegressor()\n",
        "}\n",
        "\n",
        "model_score = pd.DataFrame()\n",
        "\n",
        "for curr_model in model_dict:\n",
        "    model = model_dict[curr_model]\n",
        "    model.fit(XZ_train, Z_train)\n",
        "    y_pred = model.predict(XZ_test)\n",
        "    model_score = model_score.append({  'Model' : curr_model,\n",
        "                                        'mean_absolute_error' : round(mean_absolute_error(Z_test, y_pred),3),\n",
        "                                        'mean_squared_error' : round(mean_squared_error(Z_test, y_pred),3),\n",
        "                                        'r2_score' : round(r2_score(Z_test, y_pred),3),\n",
        "                                        #'F1 Score' : round(f1_score(y_test, y_pred),3)\n",
        "                                        }, ignore_index=True)\n",
        "\n",
        "model_score.head()"
      ],
      "metadata": {
        "colab": {
          "base_uri": "https://localhost:8080/",
          "height": 175
        },
        "id": "bb8zKpk02KnH",
        "outputId": "ec00922f-5e8e-41e4-cdfe-02bc29dc1196"
      },
      "execution_count": null,
      "outputs": [
        {
          "output_type": "execute_result",
          "data": {
            "text/plain": [
              "                       Model  mean_absolute_error  mean_squared_error  \\\n",
              "0      RandomForestRegressor                0.101               0.042   \n",
              "1          AdaBoostRegressor                0.709               0.619   \n",
              "2  GradientBoostingRegressor                0.378               0.225   \n",
              "3               XGBRegressor                0.154               0.053   \n",
              "\n",
              "   r2_score  \n",
              "0     0.959  \n",
              "1     0.391  \n",
              "2     0.778  \n",
              "3     0.948  "
            ],
            "text/html": [
              "\n",
              "  <div id=\"df-3f2642ed-2276-4a13-af32-941b4bd13e28\">\n",
              "    <div class=\"colab-df-container\">\n",
              "      <div>\n",
              "<style scoped>\n",
              "    .dataframe tbody tr th:only-of-type {\n",
              "        vertical-align: middle;\n",
              "    }\n",
              "\n",
              "    .dataframe tbody tr th {\n",
              "        vertical-align: top;\n",
              "    }\n",
              "\n",
              "    .dataframe thead th {\n",
              "        text-align: right;\n",
              "    }\n",
              "</style>\n",
              "<table border=\"1\" class=\"dataframe\">\n",
              "  <thead>\n",
              "    <tr style=\"text-align: right;\">\n",
              "      <th></th>\n",
              "      <th>Model</th>\n",
              "      <th>mean_absolute_error</th>\n",
              "      <th>mean_squared_error</th>\n",
              "      <th>r2_score</th>\n",
              "    </tr>\n",
              "  </thead>\n",
              "  <tbody>\n",
              "    <tr>\n",
              "      <th>0</th>\n",
              "      <td>RandomForestRegressor</td>\n",
              "      <td>0.101</td>\n",
              "      <td>0.042</td>\n",
              "      <td>0.959</td>\n",
              "    </tr>\n",
              "    <tr>\n",
              "      <th>1</th>\n",
              "      <td>AdaBoostRegressor</td>\n",
              "      <td>0.709</td>\n",
              "      <td>0.619</td>\n",
              "      <td>0.391</td>\n",
              "    </tr>\n",
              "    <tr>\n",
              "      <th>2</th>\n",
              "      <td>GradientBoostingRegressor</td>\n",
              "      <td>0.378</td>\n",
              "      <td>0.225</td>\n",
              "      <td>0.778</td>\n",
              "    </tr>\n",
              "    <tr>\n",
              "      <th>3</th>\n",
              "      <td>XGBRegressor</td>\n",
              "      <td>0.154</td>\n",
              "      <td>0.053</td>\n",
              "      <td>0.948</td>\n",
              "    </tr>\n",
              "  </tbody>\n",
              "</table>\n",
              "</div>\n",
              "      <button class=\"colab-df-convert\" onclick=\"convertToInteractive('df-3f2642ed-2276-4a13-af32-941b4bd13e28')\"\n",
              "              title=\"Convert this dataframe to an interactive table.\"\n",
              "              style=\"display:none;\">\n",
              "        \n",
              "  <svg xmlns=\"http://www.w3.org/2000/svg\" height=\"24px\"viewBox=\"0 0 24 24\"\n",
              "       width=\"24px\">\n",
              "    <path d=\"M0 0h24v24H0V0z\" fill=\"none\"/>\n",
              "    <path d=\"M18.56 5.44l.94 2.06.94-2.06 2.06-.94-2.06-.94-.94-2.06-.94 2.06-2.06.94zm-11 1L8.5 8.5l.94-2.06 2.06-.94-2.06-.94L8.5 2.5l-.94 2.06-2.06.94zm10 10l.94 2.06.94-2.06 2.06-.94-2.06-.94-.94-2.06-.94 2.06-2.06.94z\"/><path d=\"M17.41 7.96l-1.37-1.37c-.4-.4-.92-.59-1.43-.59-.52 0-1.04.2-1.43.59L10.3 9.45l-7.72 7.72c-.78.78-.78 2.05 0 2.83L4 21.41c.39.39.9.59 1.41.59.51 0 1.02-.2 1.41-.59l7.78-7.78 2.81-2.81c.8-.78.8-2.07 0-2.86zM5.41 20L4 18.59l7.72-7.72 1.47 1.35L5.41 20z\"/>\n",
              "  </svg>\n",
              "      </button>\n",
              "      \n",
              "  <style>\n",
              "    .colab-df-container {\n",
              "      display:flex;\n",
              "      flex-wrap:wrap;\n",
              "      gap: 12px;\n",
              "    }\n",
              "\n",
              "    .colab-df-convert {\n",
              "      background-color: #E8F0FE;\n",
              "      border: none;\n",
              "      border-radius: 50%;\n",
              "      cursor: pointer;\n",
              "      display: none;\n",
              "      fill: #1967D2;\n",
              "      height: 32px;\n",
              "      padding: 0 0 0 0;\n",
              "      width: 32px;\n",
              "    }\n",
              "\n",
              "    .colab-df-convert:hover {\n",
              "      background-color: #E2EBFA;\n",
              "      box-shadow: 0px 1px 2px rgba(60, 64, 67, 0.3), 0px 1px 3px 1px rgba(60, 64, 67, 0.15);\n",
              "      fill: #174EA6;\n",
              "    }\n",
              "\n",
              "    [theme=dark] .colab-df-convert {\n",
              "      background-color: #3B4455;\n",
              "      fill: #D2E3FC;\n",
              "    }\n",
              "\n",
              "    [theme=dark] .colab-df-convert:hover {\n",
              "      background-color: #434B5C;\n",
              "      box-shadow: 0px 1px 3px 1px rgba(0, 0, 0, 0.15);\n",
              "      filter: drop-shadow(0px 1px 2px rgba(0, 0, 0, 0.3));\n",
              "      fill: #FFFFFF;\n",
              "    }\n",
              "  </style>\n",
              "\n",
              "      <script>\n",
              "        const buttonEl =\n",
              "          document.querySelector('#df-3f2642ed-2276-4a13-af32-941b4bd13e28 button.colab-df-convert');\n",
              "        buttonEl.style.display =\n",
              "          google.colab.kernel.accessAllowed ? 'block' : 'none';\n",
              "\n",
              "        async function convertToInteractive(key) {\n",
              "          const element = document.querySelector('#df-3f2642ed-2276-4a13-af32-941b4bd13e28');\n",
              "          const dataTable =\n",
              "            await google.colab.kernel.invokeFunction('convertToInteractive',\n",
              "                                                     [key], {});\n",
              "          if (!dataTable) return;\n",
              "\n",
              "          const docLinkHtml = 'Like what you see? Visit the ' +\n",
              "            '<a target=\"_blank\" href=https://colab.research.google.com/notebooks/data_table.ipynb>data table notebook</a>'\n",
              "            + ' to learn more about interactive tables.';\n",
              "          element.innerHTML = '';\n",
              "          dataTable['output_type'] = 'display_data';\n",
              "          await google.colab.output.renderOutput(dataTable, element);\n",
              "          const docLink = document.createElement('div');\n",
              "          docLink.innerHTML = docLinkHtml;\n",
              "          element.appendChild(docLink);\n",
              "        }\n",
              "      </script>\n",
              "    </div>\n",
              "  </div>\n",
              "  "
            ]
          },
          "metadata": {},
          "execution_count": 98
        }
      ]
    },
    {
      "cell_type": "code",
      "source": [
        "max_accuracy= min(model_score['mean_squared_error'])\n",
        "best_model = model_score[model_score['mean_squared_error'] == max_accuracy ]['Model'].values[0]\n",
        "best_model\n",
        "\n",
        "model_params = {\n",
        "\n",
        "    'RandomForestRegressor' : {\n",
        "        #random forest Parameters\n",
        "        'n_estimators' : [x*25 + 50 for x in range(1, 8)],\n",
        "        'max_samples' : [.25,.5,.75],\n",
        "        'max_features' : ['sqrt', 'log2'],\n",
        "\n",
        "        #Base Estimator(DT) Parameters\n",
        "        'criterion' : ['squared_error', 'absolute_error'],\n",
        "        'max_depth' : [5,7,9,11],\n",
        "        'min_samples_split' : [15, 20, 25],\n",
        "        'min_samples_leaf' : [15, 20, 25]\n",
        "    },\n",
        "    'AdaBoostRegressor' : {\n",
        "        'n_estimators' : [x*25 + 50 for x in range(1, 15)],\n",
        "        'learning_rate' : [0.001, 0.01, 0.05, 0.1, 1,5],\n",
        "        'loss' : ['linear', 'square']\n",
        "    },\n",
        "    'GradientBoostingRegressor' : {\n",
        "        'learning_rate' : [0.01,0.1,0.5],\n",
        "        'n_estimators' : [x*25 + 50 for x in range(1, 8)],\n",
        "        'min_samples_split' : [15,30,50],\n",
        "        'min_samples_leaf' : [5,10,15,20],\n",
        "        'max_depth' : [5,7,10],\n",
        "        'min_impurity_decrease': [0.1, 0.3],\n",
        "        'max_features': ['sqrt', 'log2']\n",
        "    },\n",
        "    'XGBRegressor' : {\n",
        "        'max_depth' : [5,7,9,11]\n",
        "    }\n",
        "}\n",
        "\n",
        "best_model_cv = RandomizedSearchCV(model_dict[best_model], model_params[best_model], cv = 5,n_iter=30, scoring = 'neg_mean_absolute_error')  #RandomSearch\n",
        "best_model_cv.fit(XZ_train, Z_train)\n",
        "\n",
        "print('Best Hyper Parameters for {}: \\n{}'.format(best_model, best_model_cv.best_params_))\n",
        "print('Best score for {} using above Hyper Parameters: {}'.format(best_model, best_model_cv.best_score_))\n",
        "\n",
        "_best_model = model_dict[best_model]\n",
        "_best_model.fit(XZ_train,Z_train)\n",
        "\n",
        "y_pred = _best_model.predict(XZ_test)\n",
        "\n",
        "#Evaluation Matrix\n",
        "print(f'mean_absolute_error : {round(mean_absolute_error(Z_test, y_pred),3)}')\n",
        "print(f'mean_squared_error : {round(mean_squared_error(Z_test, y_pred),3)}')\n",
        "print(f'r2_score : {round(r2_score(Z_test, y_pred),3)}')"
      ],
      "metadata": {
        "colab": {
          "base_uri": "https://localhost:8080/"
        },
        "id": "4_EDwQwqpm8B",
        "outputId": "6d754794-e0b9-48b1-c3b2-55095a241982"
      },
      "execution_count": null,
      "outputs": [
        {
          "output_type": "stream",
          "name": "stdout",
          "text": [
            "Best Hyper Parameters for RandomForestRegressor: \n",
            "{'n_estimators': 75, 'min_samples_split': 20, 'min_samples_leaf': 20, 'max_samples': 0.75, 'max_features': 'sqrt', 'max_depth': 11, 'criterion': 'absolute_error'}\n",
            "Best score for RandomForestRegressor using above Hyper Parameters: -0.5741065490460263\n",
            "mean_absolute_error : 0.106\n",
            "mean_squared_error : 0.046\n",
            "r2_score : 0.954\n"
          ]
        }
      ]
    },
    {
      "cell_type": "code",
      "source": [
        "#2xplt.plot(y_train,'r--',y_test,'g^')"
      ],
      "metadata": {
        "colab": {
          "base_uri": "https://localhost:8080/",
          "height": 130
        },
        "id": "rLknZDntPs4j",
        "outputId": "94ad91df-5053-4967-ab53-524ca02e1209"
      },
      "execution_count": null,
      "outputs": [
        {
          "output_type": "error",
          "ename": "SyntaxError",
          "evalue": "ignored",
          "traceback": [
            "\u001b[0;36m  File \u001b[0;32m\"<ipython-input-56-32524776d48d>\"\u001b[0;36m, line \u001b[0;32m1\u001b[0m\n\u001b[0;31m    2xplt.plot(y_train,'r--',y_test,'g^')\u001b[0m\n\u001b[0m    ^\u001b[0m\n\u001b[0;31mSyntaxError\u001b[0m\u001b[0;31m:\u001b[0m invalid decimal literal\n"
          ]
        }
      ]
    },
    {
      "cell_type": "markdown",
      "source": [
        "NOT EDITED DATA\n"
      ],
      "metadata": {
        "id": "7QeyyPWTPjka"
      }
    },
    {
      "cell_type": "code",
      "source": [
        "model_dict = {\n",
        "    #'Logistic Regression' : LogisticRegression(),\n",
        "    'RandomForestRegressor' : RandomForestRegressor(),\n",
        "    'AdaBoostRegressor' : AdaBoostRegressor(),\n",
        "    'GradientBoostingRegressor' : GradientBoostingRegressor(),\n",
        "    'XGBRegressor' : XGBRegressor()\n",
        "}\n",
        "\n",
        "model_score = pd.DataFrame()\n",
        "\n",
        "for curr_model in model_dict:\n",
        "    model = model_dict[curr_model]\n",
        "    model.fit(XS_train, ys_train)\n",
        "    y_pred = model.predict(XS_test)\n",
        "    model_score = model_score.append({  'Model' : curr_model,\n",
        "                                        'mean_absolute_error' : round(mean_absolute_error(ys_test, y_pred),3),\n",
        "                                        'mean_squared_error' : round(mean_squared_error(ys_test, y_pred),3),\n",
        "                                        'r2_score' : round(r2_score(ys_test, y_pred),3),\n",
        "                                        #'F1 Score' : round(f1_score(y_test, y_pred),3)\n",
        "                                        }, ignore_index=True)\n",
        "\n",
        "model_score.head()"
      ],
      "metadata": {
        "colab": {
          "base_uri": "https://localhost:8080/",
          "height": 175
        },
        "id": "2Pc6Q9W-OAPD",
        "outputId": "6a662aaf-33e4-48b0-fc18-e21e65357cf5"
      },
      "execution_count": null,
      "outputs": [
        {
          "output_type": "execute_result",
          "data": {
            "text/plain": [
              "                       Model  mean_absolute_error  mean_squared_error  \\\n",
              "0      RandomForestRegressor                0.100               0.040   \n",
              "1          AdaBoostRegressor                0.699               0.636   \n",
              "2  GradientBoostingRegressor                0.360               0.216   \n",
              "3               XGBRegressor                0.145               0.050   \n",
              "\n",
              "   r2_score  \n",
              "0     0.961  \n",
              "1     0.366  \n",
              "2     0.785  \n",
              "3     0.950  "
            ],
            "text/html": [
              "\n",
              "  <div id=\"df-e809d271-2051-4923-b2fd-8608855fdd51\">\n",
              "    <div class=\"colab-df-container\">\n",
              "      <div>\n",
              "<style scoped>\n",
              "    .dataframe tbody tr th:only-of-type {\n",
              "        vertical-align: middle;\n",
              "    }\n",
              "\n",
              "    .dataframe tbody tr th {\n",
              "        vertical-align: top;\n",
              "    }\n",
              "\n",
              "    .dataframe thead th {\n",
              "        text-align: right;\n",
              "    }\n",
              "</style>\n",
              "<table border=\"1\" class=\"dataframe\">\n",
              "  <thead>\n",
              "    <tr style=\"text-align: right;\">\n",
              "      <th></th>\n",
              "      <th>Model</th>\n",
              "      <th>mean_absolute_error</th>\n",
              "      <th>mean_squared_error</th>\n",
              "      <th>r2_score</th>\n",
              "    </tr>\n",
              "  </thead>\n",
              "  <tbody>\n",
              "    <tr>\n",
              "      <th>0</th>\n",
              "      <td>RandomForestRegressor</td>\n",
              "      <td>0.100</td>\n",
              "      <td>0.040</td>\n",
              "      <td>0.961</td>\n",
              "    </tr>\n",
              "    <tr>\n",
              "      <th>1</th>\n",
              "      <td>AdaBoostRegressor</td>\n",
              "      <td>0.699</td>\n",
              "      <td>0.636</td>\n",
              "      <td>0.366</td>\n",
              "    </tr>\n",
              "    <tr>\n",
              "      <th>2</th>\n",
              "      <td>GradientBoostingRegressor</td>\n",
              "      <td>0.360</td>\n",
              "      <td>0.216</td>\n",
              "      <td>0.785</td>\n",
              "    </tr>\n",
              "    <tr>\n",
              "      <th>3</th>\n",
              "      <td>XGBRegressor</td>\n",
              "      <td>0.145</td>\n",
              "      <td>0.050</td>\n",
              "      <td>0.950</td>\n",
              "    </tr>\n",
              "  </tbody>\n",
              "</table>\n",
              "</div>\n",
              "      <button class=\"colab-df-convert\" onclick=\"convertToInteractive('df-e809d271-2051-4923-b2fd-8608855fdd51')\"\n",
              "              title=\"Convert this dataframe to an interactive table.\"\n",
              "              style=\"display:none;\">\n",
              "        \n",
              "  <svg xmlns=\"http://www.w3.org/2000/svg\" height=\"24px\"viewBox=\"0 0 24 24\"\n",
              "       width=\"24px\">\n",
              "    <path d=\"M0 0h24v24H0V0z\" fill=\"none\"/>\n",
              "    <path d=\"M18.56 5.44l.94 2.06.94-2.06 2.06-.94-2.06-.94-.94-2.06-.94 2.06-2.06.94zm-11 1L8.5 8.5l.94-2.06 2.06-.94-2.06-.94L8.5 2.5l-.94 2.06-2.06.94zm10 10l.94 2.06.94-2.06 2.06-.94-2.06-.94-.94-2.06-.94 2.06-2.06.94z\"/><path d=\"M17.41 7.96l-1.37-1.37c-.4-.4-.92-.59-1.43-.59-.52 0-1.04.2-1.43.59L10.3 9.45l-7.72 7.72c-.78.78-.78 2.05 0 2.83L4 21.41c.39.39.9.59 1.41.59.51 0 1.02-.2 1.41-.59l7.78-7.78 2.81-2.81c.8-.78.8-2.07 0-2.86zM5.41 20L4 18.59l7.72-7.72 1.47 1.35L5.41 20z\"/>\n",
              "  </svg>\n",
              "      </button>\n",
              "      \n",
              "  <style>\n",
              "    .colab-df-container {\n",
              "      display:flex;\n",
              "      flex-wrap:wrap;\n",
              "      gap: 12px;\n",
              "    }\n",
              "\n",
              "    .colab-df-convert {\n",
              "      background-color: #E8F0FE;\n",
              "      border: none;\n",
              "      border-radius: 50%;\n",
              "      cursor: pointer;\n",
              "      display: none;\n",
              "      fill: #1967D2;\n",
              "      height: 32px;\n",
              "      padding: 0 0 0 0;\n",
              "      width: 32px;\n",
              "    }\n",
              "\n",
              "    .colab-df-convert:hover {\n",
              "      background-color: #E2EBFA;\n",
              "      box-shadow: 0px 1px 2px rgba(60, 64, 67, 0.3), 0px 1px 3px 1px rgba(60, 64, 67, 0.15);\n",
              "      fill: #174EA6;\n",
              "    }\n",
              "\n",
              "    [theme=dark] .colab-df-convert {\n",
              "      background-color: #3B4455;\n",
              "      fill: #D2E3FC;\n",
              "    }\n",
              "\n",
              "    [theme=dark] .colab-df-convert:hover {\n",
              "      background-color: #434B5C;\n",
              "      box-shadow: 0px 1px 3px 1px rgba(0, 0, 0, 0.15);\n",
              "      filter: drop-shadow(0px 1px 2px rgba(0, 0, 0, 0.3));\n",
              "      fill: #FFFFFF;\n",
              "    }\n",
              "  </style>\n",
              "\n",
              "      <script>\n",
              "        const buttonEl =\n",
              "          document.querySelector('#df-e809d271-2051-4923-b2fd-8608855fdd51 button.colab-df-convert');\n",
              "        buttonEl.style.display =\n",
              "          google.colab.kernel.accessAllowed ? 'block' : 'none';\n",
              "\n",
              "        async function convertToInteractive(key) {\n",
              "          const element = document.querySelector('#df-e809d271-2051-4923-b2fd-8608855fdd51');\n",
              "          const dataTable =\n",
              "            await google.colab.kernel.invokeFunction('convertToInteractive',\n",
              "                                                     [key], {});\n",
              "          if (!dataTable) return;\n",
              "\n",
              "          const docLinkHtml = 'Like what you see? Visit the ' +\n",
              "            '<a target=\"_blank\" href=https://colab.research.google.com/notebooks/data_table.ipynb>data table notebook</a>'\n",
              "            + ' to learn more about interactive tables.';\n",
              "          element.innerHTML = '';\n",
              "          dataTable['output_type'] = 'display_data';\n",
              "          await google.colab.output.renderOutput(dataTable, element);\n",
              "          const docLink = document.createElement('div');\n",
              "          docLink.innerHTML = docLinkHtml;\n",
              "          element.appendChild(docLink);\n",
              "        }\n",
              "      </script>\n",
              "    </div>\n",
              "  </div>\n",
              "  "
            ]
          },
          "metadata": {},
          "execution_count": 100
        }
      ]
    },
    {
      "cell_type": "code",
      "source": [
        "max_accuracy= min(model_score['mean_squared_error'])\n",
        "best_model = model_score[model_score['mean_squared_error'] == max_accuracy ]['Model'].values[0]\n",
        "best_model\n",
        "\n",
        "model_params = {\n",
        "\n",
        "    'RandomForestRegressor' : {\n",
        "        #random forest Parameters\n",
        "        'n_estimators' : [x*25 + 50 for x in range(1, 8)],\n",
        "        'max_samples' : [.25,.5,.75],\n",
        "        'max_features' : ['sqrt', 'log2'],\n",
        "\n",
        "        #Base Estimator(DT) Parameters\n",
        "        'criterion' : ['squared_error', 'absolute_error'],\n",
        "        'max_depth' : [5,7,9,11],\n",
        "        'min_samples_split' : [15, 20, 25],\n",
        "        'min_samples_leaf' : [15, 20, 25]\n",
        "    },\n",
        "    'AdaBoostRegressor' : {\n",
        "        'n_estimators' : [x*25 + 50 for x in range(1, 15)],\n",
        "        'learning_rate' : [0.001, 0.01, 0.05, 0.1, 1,5],\n",
        "        'loss' : ['linear', 'square']\n",
        "    },\n",
        "    'GradientBoostingRegressor' : {\n",
        "        'learning_rate' : [0.01,0.1,0.5],\n",
        "        'n_estimators' : [x*25 + 50 for x in range(1, 8)],\n",
        "        'min_samples_split' : [15,30,50],\n",
        "        'min_samples_leaf' : [5,10,15,20],\n",
        "        'max_depth' : [5,7,10],\n",
        "        'min_impurity_decrease': [0.1, 0.3],\n",
        "        'max_features': ['sqrt', 'log2']\n",
        "    },\n",
        "    'XGBRegressor' : {\n",
        "        'max_depth' : [5,7,9,11]\n",
        "    }\n",
        "}\n",
        "\n",
        "best_model_cv = RandomizedSearchCV(model_dict[best_model], model_params[best_model], cv = 5,n_iter=30, scoring = 'neg_mean_absolute_error')  #RandomSearch\n",
        "best_model_cv.fit(XS_train, ys_train)\n",
        "\n",
        "print('Best Hyper Parameters for {}: \\n{}'.format(best_model, best_model_cv.best_params_))\n",
        "print('Best score for {} using above Hyper Parameters: {}'.format(best_model, best_model_cv.best_score_))\n",
        "\n",
        "_best_model = model_dict[best_model]\n",
        "_best_model.fit(XZ_train,ys_train)\n",
        "\n",
        "y_pred = _best_model.predict(XS_test)\n",
        "\n",
        "#Evaluation Matrix\n",
        "print(f'mean_absolute_error : {round(mean_absolute_error(ys_test, y_pred),3)}')\n",
        "print(f'mean_squared_error : {round(mean_squared_error(ys_test, y_pred),3)}')\n",
        "print(f'r2_score : {round(r2_score(ys_test, y_pred),3)}')"
      ],
      "metadata": {
        "colab": {
          "base_uri": "https://localhost:8080/"
        },
        "id": "jTA_j2a2OA0b",
        "outputId": "e145e633-cc7c-4265-a7c5-da523f9dfcfb"
      },
      "execution_count": null,
      "outputs": [
        {
          "output_type": "stream",
          "name": "stdout",
          "text": [
            "Best Hyper Parameters for RandomForestRegressor: \n",
            "{'n_estimators': 100, 'min_samples_split': 20, 'min_samples_leaf': 15, 'max_samples': 0.75, 'max_features': 'log2', 'max_depth': 11, 'criterion': 'squared_error'}\n",
            "Best score for RandomForestRegressor using above Hyper Parameters: -0.5569561310224437\n",
            "mean_absolute_error : 0.093\n",
            "mean_squared_error : 0.036\n",
            "r2_score : 0.964\n"
          ]
        }
      ]
    },
    {
      "cell_type": "code",
      "source": [
        "model_dict = {\n",
        "    #'Logistic Regression' : LogisticRegression(),\n",
        "    'RandomForestRegressor' : RandomForestRegressor(),\n",
        "    'AdaBoostRegressor' : AdaBoostRegressor(),\n",
        "    'GradientBoostingRegressor' : GradientBoostingRegressor(),\n",
        "    'XGBRegressor' : XGBRegressor()\n",
        "}\n",
        "\n",
        "model_score = pd.DataFrame()\n",
        "\n",
        "for curr_model in model_dict:\n",
        "    model = model_dict[curr_model]\n",
        "    model.fit(XZS_train, ZS_train)\n",
        "    y_pred = model.predict(XZS_test)\n",
        "    model_score = model_score.append({  'Model' : curr_model,\n",
        "                                        'mean_absolute_error' : round(mean_absolute_error(ZS_test, y_pred),3),\n",
        "                                        'mean_squared_error' : round(mean_squared_error(ZS_test, y_pred),3),\n",
        "                                        'r2_score' : round(r2_score(ZS_test, y_pred),3),\n",
        "                                        #'F1 Score' : round(f1_score(y_test, y_pred),3)\n",
        "                                        }, ignore_index=True)\n",
        "\n",
        "model_score.head()\n",
        "\n",
        "max_accuracy= min(model_score['mean_squared_error'])\n",
        "best_model = model_score[model_score['mean_squared_error'] == max_accuracy ]['Model'].values[0]\n",
        "best_model\n",
        "\n",
        "model_params = {\n",
        "\n",
        "    'RandomForestRegressor' : {\n",
        "        #random forest Parameters\n",
        "        'n_estimators' : [x*25 + 50 for x in range(1, 8)],\n",
        "        'max_samples' : [.25,.5,.75],\n",
        "        'max_features' : ['sqrt', 'log2'],\n",
        "\n",
        "        #Base Estimator(DT) Parameters\n",
        "        'criterion' : ['squared_error', 'absolute_error'],\n",
        "        'max_depth' : [5,7,9,11],\n",
        "        'min_samples_split' : [15, 20, 25],\n",
        "        'min_samples_leaf' : [15, 20, 25]\n",
        "    },\n",
        "    'AdaBoostRegressor' : {\n",
        "        'n_estimators' : [x*25 + 50 for x in range(1, 15)],\n",
        "        'learning_rate' : [0.001, 0.01, 0.05, 0.1, 1,5],\n",
        "        'loss' : ['linear', 'square']\n",
        "    },\n",
        "    'GradientBoostingRegressor' : {\n",
        "        'learning_rate' : [0.01,0.1,0.5],\n",
        "        'n_estimators' : [x*25 + 50 for x in range(1, 8)],\n",
        "        'min_samples_split' : [15,30,50],\n",
        "        'min_samples_leaf' : [5,10,15,20],\n",
        "        'max_depth' : [5,7,10],\n",
        "        'min_impurity_decrease': [0.1, 0.3],\n",
        "        'max_features': ['sqrt', 'log2']\n",
        "    },\n",
        "    'XGBRegressor' : {\n",
        "        'max_depth' : [5,7,9,11]\n",
        "    }\n",
        "}\n",
        "\n",
        "best_model_cv = RandomizedSearchCV(model_dict[best_model], model_params[best_model], cv = 5,n_iter=30, scoring = 'neg_mean_absolute_error')  #RandomSearch\n",
        "best_model_cv.fit(XZS_train, ZS_train)\n",
        "best_model_cv.\n",
        "print('Best Hyper Parameters for {}: \\n{}'.format(best_model, best_model_cv.best_params_))\n",
        "print('Best score for {} using above Hyper Parameters: {}'.format(best_model, best_model_cv.best_score_))\n",
        "\n",
        "_best_model = model_dict[best_model]\n",
        "_best_model.fit(XZS_train,ZS_train)\n",
        "\n",
        "y_pred = _best_model.predict(XZS_test)\n",
        "\n",
        "#Evaluation Matrix\n",
        "print(f'mean_absolute_error : {round( (ZS_test, y_pred),3)}')\n",
        "print(f'mean_squared_error : {round(mean_squared_error(ZS_test, y_pred),3)}')\n",
        "print(f'r2_score : {round(r2_score(ZS_test, y_pred),3)}')"
      ],
      "metadata": {
        "colab": {
          "base_uri": "https://localhost:8080/"
        },
        "id": "7UEOUI8PO4Z-",
        "outputId": "d13e7285-120f-4b76-e2e4-891fc7d66b3a"
      },
      "execution_count": null,
      "outputs": [
        {
          "output_type": "stream",
          "name": "stdout",
          "text": [
            "Best Hyper Parameters for RandomForestRegressor: \n",
            "{'n_estimators': 150, 'min_samples_split': 25, 'min_samples_leaf': 15, 'max_samples': 0.75, 'max_features': 'log2', 'max_depth': 11, 'criterion': 'absolute_error'}\n",
            "Best score for RandomForestRegressor using above Hyper Parameters: -0.5529991959263253\n",
            "mean_absolute_error : 0.097\n",
            "mean_squared_error : 0.038\n",
            "r2_score : 0.962\n"
          ]
        }
      ]
    }
  ]
}